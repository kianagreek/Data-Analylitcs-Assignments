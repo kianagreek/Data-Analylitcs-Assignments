{
 "cells": [
  {
   "cell_type": "markdown",
   "source": [
    "Programming Assignment 3\n",
    "---------------------------------\n",
    "Kiana Greek, 40135171\n",
    "Comp 333 - Data Analytics\n",
    "Task: apply python & pandas for data wrangling mimicking the process for data wrangling in Lab 8 with OpenRefine\n",
    "\n",
    "Input: Ecological Data used in lab 8. In the dataset, I removed all observations that did not have a value for Country column. For the feature state, missing values were replaced with the country. Missing values for the county feature were replaced with the value from state.\n",
    "\n",
    "Layout of code: each step is defined as a function & helper functions for that method will be defined in same code cell. At the end, the main functions are used on the dataset. The main functions assume perfect input - only column names for columns with string values will be given for text_facet and only column names with numeric values will be given for numeric_facet."
   ],
   "metadata": {
    "collapsed": false,
    "pycharm": {
     "name": "#%% md\n"
    }
   }
  },
  {
   "cell_type": "markdown",
   "source": [
    "Step: construct a text facet\n",
    "-\n",
    "Param: a dataframe column (series)\n",
    "Assumes its given column consists of only strings and no numbers\n",
    "Displays number of empty values and value-count for nonempty values"
   ],
   "metadata": {
    "collapsed": false,
    "pycharm": {
     "name": "#%% md\n"
    }
   }
  },
  {
   "cell_type": "code",
   "execution_count": 17,
   "outputs": [],
   "source": [
    "import pandas as pd\n",
    "def text_facet(self):\n",
    "    #create a variable facet that stores the unique values and their counts for the series\n",
    "    print('NAN: ',self.isnull().sum())\n",
    "    print(self.value_counts())"
   ],
   "metadata": {
    "collapsed": false,
    "pycharm": {
     "name": "#%%\n"
    }
   }
  },
  {
   "cell_type": "markdown",
   "source": [
    "Step: construct a numeric facet\n",
    "------------------------------------------------------------------------\n",
    "Param: a dataframe column (series)\n",
    "Assumes its given column consisting of only numbers and no strings\n",
    "if log_scale is true, then the values are scaled\n",
    "For a given numeric column, a histogram of the count of values is given. The number of bins is given by the number of unique values in the column."
   ],
   "metadata": {
    "collapsed": false,
    "pycharm": {
     "name": "#%% md\n"
    }
   },
   "execution_count": 0
  },
  {
   "cell_type": "code",
   "execution_count": 18,
   "outputs": [],
   "source": [
    "import numpy as np\n",
    "def num_facet(self, log_scale=False):\n",
    "    #plot the data with th number of bins being the number of unique values\n",
    "    ax = self.plot.hist(bins = self.nunique(), logx = log_scale)\n",
    "    ax.set_xlabel(self.name)\n",
    "    ax.set_ylabel(\"Count\")"
   ],
   "metadata": {
    "collapsed": false,
    "pycharm": {
     "name": "#%%\n"
    }
   }
  },
  {
   "cell_type": "markdown",
   "source": [
    "Step: cluster a column of text entries\n",
    "---------------------------------------\n",
    "1) preprocessing - drop NaN values from column and convert remaining values to lower case\n",
    "2) vectorization using TF-IDF Vectorization\n",
    "3) implement kmeans - k is passed as a parm (num)\n",
    "4) display 5 most common words in cluster"
   ],
   "metadata": {
    "collapsed": false,
    "pycharm": {
     "name": "#%% md\n"
    }
   }
  },
  {
   "cell_type": "code",
   "execution_count": 19,
   "outputs": [],
   "source": [
    "from sklearn.feature_extraction.text import TfidfVectorizer\n",
    "from sklearn.cluster import KMeans\n",
    "import seaborn as sns\n",
    "import matplotlib.pyplot as plt\n",
    "\n",
    "def cluster(self, num):\n",
    "    #step 0 - dataframe to store results of clustering\n",
    "    df = pd.DataFrame()\n",
    "\n",
    "    #step 1\n",
    "    ser = self.dropna() #returns a new series without NaN values - use this for the rest of step 1\n",
    "    clean = ser.str.lower()\n",
    "    df['Clean'] = clean #store results\n",
    "\n",
    "    #step 2\n",
    "    vectorizer = TfidfVectorizer() #initialize vector\n",
    "    v = vectorizer.fit_transform(df['Clean'])\n",
    "    terms = vectorizer.get_feature_names_out()\n",
    "\n",
    "    #step 3\n",
    "    kmeans = KMeans(n_clusters= num) #initialize model\n",
    "    kmeans.fit(v) #fit the model\n",
    "    kmeans_labels = pd.DataFrame(kmeans.predict(v))\n",
    "    df['Clusters'] = kmeans_labels\n",
    "\n",
    "    #step 4\n",
    "    order_centroids = kmeans.cluster_centers_.argsort()[:, ::-1]\n",
    "    results_dict = dict()\n",
    "    for i in range(num):\n",
    "        terms_list = list()\n",
    "        for ind in order_centroids[i, :5]:\n",
    "            terms_list.append(terms[ind])\n",
    "        results_dict[f'Cluster {i}'] = terms_list\n",
    "    df_clusters = pd.DataFrame.from_dict(results_dict)\n",
    "    print(df_clusters)"
   ],
   "metadata": {
    "collapsed": false,
    "pycharm": {
     "name": "#%%\n"
    }
   }
  },
  {
   "cell_type": "markdown",
   "source": [
    "Step: string processing\n",
    "-\n",
    "trimming all whitespace at the start and end of a string replacing internal whitespace by a single space\n",
    "returns a new series of formatted data"
   ],
   "metadata": {
    "collapsed": false,
    "pycharm": {
     "name": "#%% md\n"
    }
   }
  },
  {
   "cell_type": "code",
   "execution_count": 20,
   "outputs": [],
   "source": [
    "import re\n",
    "\n",
    "def remove_extra_spaces(self):\n",
    "    new = self.apply(lambda x: \" \".join(x.split()))\n",
    "    return new"
   ],
   "metadata": {
    "collapsed": false,
    "pycharm": {
     "name": "#%%\n"
    }
   }
  },
  {
   "cell_type": "markdown",
   "source": [
    "Using methods on ecological dataset\n",
    "-\n",
    "Data wrangling on numerica data then string data"
   ],
   "metadata": {
    "collapsed": false,
    "pycharm": {
     "name": "#%% md\n"
    }
   }
  },
  {
   "cell_type": "code",
   "execution_count": 21,
   "outputs": [
    {
     "name": "stderr",
     "output_type": "stream",
     "text": [
      "C:\\Users\\Kiana Greek\\AppData\\Local\\Temp\\ipykernel_11528\\3004629428.py:2: DtypeWarning: Columns (11,12,13,16,17,18,33,35) have mixed types. Specify dtype option on import or set low_memory=False.\n",
      "  data = pd.read_csv('ecological-data-messy.csv', encoding='windows-1252')\n"
     ]
    },
    {
     "data": {
      "text/plain": "                              survey_id  recordID  mo  dy    yr  period  \\\n0  491ec41b-0a80-4ce9-b754-2983c6f38e71      6545   9  18  1982    62.0   \n1  f280bade-4e9b-447d-afe0-9e6d45e6bfb0      5220   1  24  1982    54.0   \n2  2b1b4a8a-c3e9-4781-a5f9-18b081383876     18932   8   7  1991   162.0   \n3  e98e66c4-514b-45f7-9d95-336c05a72b21     20588   1  24  1993   179.0   \n4  768cdd0d-93bc-4c74-9dcd-d1ed48b7501e      7020  11  21  1982    63.0   \n\n                                plot_id  plot  note1  stake  ...  tag note2  \\\n0  4dc16022-f28d-4b9d-9062-c7bc3ad43362    13   13.0   36.0  ...  NaN   NaN   \n1  dcbbd373-c22e-46ef-ae8b-ad88f5cf7475    20   13.0   27.0  ...  NaN   NaN   \n2  1e87b11b-4795-4f41-bdff-2d5c4412be25    19   13.0   33.0  ...  NaN   NaN   \n3  91829d58-c12e-47e8-ae31-185f46be21d2    12   13.0   41.0  ...  NaN   NaN   \n4  f24f2db6-eadd-4de9-9d2f-95aea376c013    24   13.0   72.0  ...  NaN   NaN   \n\n  ltag note3  prevrt  prevlet nestdir neststk note4 note5  \n0  NaN   NaN     NaN      NaN     NaN     NaN   NaN   NaN  \n1  NaN   NaN     NaN      NaN     NaN     NaN   NaN   NaN  \n2  NaN   NaN     NaN      NaN     NaN     NaN   NaN     D  \n3  NaN   NaN     NaN      NaN     NaN     NaN   NaN   NaN  \n4  NaN   NaN     NaN      NaN     NaN     NaN   NaN   NaN  \n\n[5 rows x 39 columns]",
      "text/html": "<div>\n<style scoped>\n    .dataframe tbody tr th:only-of-type {\n        vertical-align: middle;\n    }\n\n    .dataframe tbody tr th {\n        vertical-align: top;\n    }\n\n    .dataframe thead th {\n        text-align: right;\n    }\n</style>\n<table border=\"1\" class=\"dataframe\">\n  <thead>\n    <tr style=\"text-align: right;\">\n      <th></th>\n      <th>survey_id</th>\n      <th>recordID</th>\n      <th>mo</th>\n      <th>dy</th>\n      <th>yr</th>\n      <th>period</th>\n      <th>plot_id</th>\n      <th>plot</th>\n      <th>note1</th>\n      <th>stake</th>\n      <th>...</th>\n      <th>tag</th>\n      <th>note2</th>\n      <th>ltag</th>\n      <th>note3</th>\n      <th>prevrt</th>\n      <th>prevlet</th>\n      <th>nestdir</th>\n      <th>neststk</th>\n      <th>note4</th>\n      <th>note5</th>\n    </tr>\n  </thead>\n  <tbody>\n    <tr>\n      <th>0</th>\n      <td>491ec41b-0a80-4ce9-b754-2983c6f38e71</td>\n      <td>6545</td>\n      <td>9</td>\n      <td>18</td>\n      <td>1982</td>\n      <td>62.0</td>\n      <td>4dc16022-f28d-4b9d-9062-c7bc3ad43362</td>\n      <td>13</td>\n      <td>13.0</td>\n      <td>36.0</td>\n      <td>...</td>\n      <td>NaN</td>\n      <td>NaN</td>\n      <td>NaN</td>\n      <td>NaN</td>\n      <td>NaN</td>\n      <td>NaN</td>\n      <td>NaN</td>\n      <td>NaN</td>\n      <td>NaN</td>\n      <td>NaN</td>\n    </tr>\n    <tr>\n      <th>1</th>\n      <td>f280bade-4e9b-447d-afe0-9e6d45e6bfb0</td>\n      <td>5220</td>\n      <td>1</td>\n      <td>24</td>\n      <td>1982</td>\n      <td>54.0</td>\n      <td>dcbbd373-c22e-46ef-ae8b-ad88f5cf7475</td>\n      <td>20</td>\n      <td>13.0</td>\n      <td>27.0</td>\n      <td>...</td>\n      <td>NaN</td>\n      <td>NaN</td>\n      <td>NaN</td>\n      <td>NaN</td>\n      <td>NaN</td>\n      <td>NaN</td>\n      <td>NaN</td>\n      <td>NaN</td>\n      <td>NaN</td>\n      <td>NaN</td>\n    </tr>\n    <tr>\n      <th>2</th>\n      <td>2b1b4a8a-c3e9-4781-a5f9-18b081383876</td>\n      <td>18932</td>\n      <td>8</td>\n      <td>7</td>\n      <td>1991</td>\n      <td>162.0</td>\n      <td>1e87b11b-4795-4f41-bdff-2d5c4412be25</td>\n      <td>19</td>\n      <td>13.0</td>\n      <td>33.0</td>\n      <td>...</td>\n      <td>NaN</td>\n      <td>NaN</td>\n      <td>NaN</td>\n      <td>NaN</td>\n      <td>NaN</td>\n      <td>NaN</td>\n      <td>NaN</td>\n      <td>NaN</td>\n      <td>NaN</td>\n      <td>D</td>\n    </tr>\n    <tr>\n      <th>3</th>\n      <td>e98e66c4-514b-45f7-9d95-336c05a72b21</td>\n      <td>20588</td>\n      <td>1</td>\n      <td>24</td>\n      <td>1993</td>\n      <td>179.0</td>\n      <td>91829d58-c12e-47e8-ae31-185f46be21d2</td>\n      <td>12</td>\n      <td>13.0</td>\n      <td>41.0</td>\n      <td>...</td>\n      <td>NaN</td>\n      <td>NaN</td>\n      <td>NaN</td>\n      <td>NaN</td>\n      <td>NaN</td>\n      <td>NaN</td>\n      <td>NaN</td>\n      <td>NaN</td>\n      <td>NaN</td>\n      <td>NaN</td>\n    </tr>\n    <tr>\n      <th>4</th>\n      <td>768cdd0d-93bc-4c74-9dcd-d1ed48b7501e</td>\n      <td>7020</td>\n      <td>11</td>\n      <td>21</td>\n      <td>1982</td>\n      <td>63.0</td>\n      <td>f24f2db6-eadd-4de9-9d2f-95aea376c013</td>\n      <td>24</td>\n      <td>13.0</td>\n      <td>72.0</td>\n      <td>...</td>\n      <td>NaN</td>\n      <td>NaN</td>\n      <td>NaN</td>\n      <td>NaN</td>\n      <td>NaN</td>\n      <td>NaN</td>\n      <td>NaN</td>\n      <td>NaN</td>\n      <td>NaN</td>\n      <td>NaN</td>\n    </tr>\n  </tbody>\n</table>\n<p>5 rows × 39 columns</p>\n</div>"
     },
     "execution_count": 21,
     "metadata": {},
     "output_type": "execute_result"
    }
   ],
   "source": [
    "#loading the dataset - needed to set encoding for it to work\n",
    "data = pd.read_csv('ecological-data-messy.csv', encoding='windows-1252')\n",
    "data.head()"
   ],
   "metadata": {
    "collapsed": false,
    "pycharm": {
     "name": "#%%\n"
    }
   }
  },
  {
   "cell_type": "markdown",
   "source": [
    "numeric facets for some numeric data"
   ],
   "metadata": {
    "collapsed": false,
    "pycharm": {
     "name": "#%% md\n"
    }
   }
  },
  {
   "cell_type": "code",
   "execution_count": 22,
   "outputs": [
    {
     "name": "stdout",
     "output_type": "stream",
     "text": [
      "months\n"
     ]
    },
    {
     "data": {
      "text/plain": "<Figure size 640x480 with 1 Axes>",
      "image/png": "[encoded data removed]"
     },
     "metadata": {},
     "output_type": "display_data"
    }
   ],
   "source": [
    "print(\"months\")\n",
    "num_facet(data['mo'])"
   ],
   "metadata": {
    "collapsed": false,
    "pycharm": {
     "name": "#%%\n"
    }
   }
  },
  {
   "cell_type": "code",
   "execution_count": 23,
   "outputs": [
    {
     "name": "stdout",
     "output_type": "stream",
     "text": [
      "\n",
      "days\n"
     ]
    },
    {
     "data": {
      "text/plain": "<Figure size 640x480 with 1 Axes>",
      "image/png": "[encoded data removed]"
     },
     "metadata": {},
     "output_type": "display_data"
    }
   ],
   "source": [
    "print('\\ndays')\n",
    "num_facet(data['dy'])"
   ],
   "metadata": {
    "collapsed": false,
    "pycharm": {
     "name": "#%%\n"
    }
   }
  },
  {
   "cell_type": "code",
   "execution_count": 24,
   "outputs": [
    {
     "name": "stdout",
     "output_type": "stream",
     "text": [
      "\n",
      " year\n"
     ]
    },
    {
     "data": {
      "text/plain": "<Figure size 640x480 with 1 Axes>",
      "image/png": "[encoded data removed]"
     },
     "metadata": {},
     "output_type": "display_data"
    }
   ],
   "source": [
    "print('\\n year')\n",
    "num_facet(data['yr'])"
   ],
   "metadata": {
    "collapsed": false,
    "pycharm": {
     "name": "#%%\n"
    }
   }
  },
  {
   "cell_type": "markdown",
   "source": [
    "Looking at text facets for some string data"
   ],
   "metadata": {
    "collapsed": false,
    "pycharm": {
     "name": "#%% md\n"
    }
   }
  },
  {
   "cell_type": "code",
   "execution_count": 25,
   "outputs": [
    {
     "name": "stdout",
     "output_type": "stream",
     "text": [
      "species\n",
      "NAN:  2015\n",
      "DM    10596\n",
      "PP     3123\n",
      "DO     3027\n",
      "PB     2891\n",
      "RM     2609\n",
      "DS     2504\n",
      "OT     2249\n",
      "PF     1597\n",
      "PE     1299\n",
      "OL     1006\n",
      "PM      899\n",
      "AH      437\n",
      "AB      303\n",
      "SS      248\n",
      "SH      147\n",
      "SA       75\n",
      "RF       75\n",
      "CB       50\n",
      "BA       46\n",
      "SF       43\n",
      "SO       43\n",
      "DX       40\n",
      "PC       39\n",
      "PL       36\n",
      "PH       32\n",
      "CQ       16\n",
      "CM       13\n",
      "OX       12\n",
      "UR       10\n",
      "PI        9\n",
      "PG        8\n",
      "UP        8\n",
      "RO        8\n",
      "PX        6\n",
      "SU        5\n",
      "PU        5\n",
      "US        4\n",
      "UL        4\n",
      "ZL        2\n",
      "AS        2\n",
      "RX        2\n",
      "SC        1\n",
      "ST        1\n",
      "CT        1\n",
      "CU        1\n",
      "CS        1\n",
      "CV        1\n",
      "Name: species, dtype: int64\n",
      "\n",
      "Scientific Name\n",
      "NAN:  15318\n",
      "Dipodomys merriami                 10596\n",
      "Dipodomys ordii                     3027\n",
      "Dipodomys spectabilis               2504\n",
      "Onychomys torridus                  2249\n",
      "Onychomys leucogaster               1006\n",
      "Ammospermophilus harrisi             435\n",
      "Amphispiza bilineata                 289\n",
      "Baiomys taylori                       46\n",
      "Dipodomys sp.                         40\n",
      "Onychomys sp.                         12\n",
      "Amphespiza bilineata                   7\n",
      "Chaetodipus baileyi                    2\n",
      "Emphispiza bilinata                    2\n",
      "Ammodramus savannarum                  2\n",
      "Cnemidophorus uniparens                1\n",
      "Crotalus viridis                       1\n",
      "Crotalus scutalatus                    1\n",
      "  Amphispiza bilineata                 1\n",
      "Cnemidophorus tigris                   1\n",
      "  Amphispiza bilineata                 1\n",
      "Callipepla squamata                    1\n",
      "Calamospiza melanocorys                1\n",
      "Amphispizo bilineata                   1\n",
      "Amphispiza cilineata                   1\n",
      "Amphispiza bilineatus                  1\n",
      "Ammospermophilus harrisii              1\n",
      "Ammospermophilis harrisi               1\n",
      "Campylorhynchus brunneicapillus        1\n",
      "Name: scientificName, dtype: int64\n",
      "\n",
      "County\n",
      "NAN:  35453\n",
      "Idaho          48\n",
      "Jefferson      12\n",
      "Lewis           9\n",
      "Leon            3\n",
      "Escambia        3\n",
      "Hernando        3\n",
      "Wakulla         3\n",
      "Jackson         3\n",
      "Krishnagiri     3\n",
      "Franklin        3\n",
      "Gadsden         3\n",
      "Siligury        3\n",
      "Name: county, dtype: int64\n",
      "\n",
      "State\n",
      "NAN:  35183\n",
      "Zamora-Chinchipe Province    207\n",
      "Loja Province                 63\n",
      "Idaho                         48\n",
      "Florida                       21\n",
      "Washington                    21\n",
      "Tamil Name                     3\n",
      "West bengal                    3\n",
      "Name: state, dtype: int64\n",
      "\n",
      " Country\n",
      "NAN:  34871\n",
      "ECUADOR                     270\n",
      "UNITED STATES               231\n",
      "AUSTRALIA                   102\n",
      "HT                           33\n",
      "United States of America     21\n",
      "US                           15\n",
      "INDIA                         6\n",
      "Name: country, dtype: int64\n"
     ]
    }
   ],
   "source": [
    "print('species')\n",
    "text_facet(data['species'])\n",
    "\n",
    "print('\\nScientific Name')\n",
    "text_facet(data['scientificName'])\n",
    "\n",
    "print('\\nCounty')\n",
    "text_facet(data['county'])\n",
    "\n",
    "print('\\nState')\n",
    "text_facet(data['state'])\n",
    "\n",
    "print('\\n Country')\n",
    "text_facet(data['country'])"
   ],
   "metadata": {
    "collapsed": false,
    "pycharm": {
     "name": "#%%\n"
    }
   }
  },
  {
   "cell_type": "code",
   "execution_count": 26,
   "outputs": [
    {
     "name": "stdout",
     "output_type": "stream",
     "text": [
      "species\n",
      "NAN:  0\n",
      "AH    437\n",
      "AB    239\n",
      "AS      2\n",
      "Name: species, dtype: int64\n",
      "\n",
      "Scientific Name\n",
      "NAN:  0\n",
      "Ammospermophilus harrisi     435\n",
      "Amphispiza bilineata         230\n",
      "Amphespiza bilineata           7\n",
      "Ammodramus savannarum          2\n",
      "  Amphispiza bilineata         1\n",
      "  Amphispiza bilineata         1\n",
      "Ammospermophilis harrisi       1\n",
      "Ammospermophilus harrisii      1\n",
      "Name: scientificName, dtype: int64\n",
      "\n",
      "Country\n",
      "NAN:  0\n",
      "ECUADOR                     270\n",
      "UNITED STATES               231\n",
      "AUSTRALIA                   102\n",
      "HT                           33\n",
      "United States of America     21\n",
      "US                           15\n",
      "INDIA                         6\n",
      "Name: country, dtype: int64\n"
     ]
    }
   ],
   "source": [
    "#remove entries with missing values & display text facets again\n",
    "data = data.dropna(how = 'any', subset = ['species','scientificName', 'country'])\n",
    "\n",
    "print('species')\n",
    "text_facet(data['species'])\n",
    "\n",
    "print('\\nScientific Name')\n",
    "text_facet(data['scientificName'])\n",
    "\n",
    "print('\\nCountry')\n",
    "text_facet(data['country'])"
   ],
   "metadata": {
    "collapsed": false,
    "pycharm": {
     "name": "#%%\n"
    }
   }
  },
  {
   "cell_type": "markdown",
   "source": [
    "String unification on scientific name & country"
   ],
   "metadata": {
    "collapsed": false,
    "pycharm": {
     "name": "#%% md\n"
    }
   }
  },
  {
   "cell_type": "code",
   "execution_count": 27,
   "outputs": [
    {
     "name": "stdout",
     "output_type": "stream",
     "text": [
      "NAN:  0\n",
      "Ammospermophilus harrisi     435\n",
      "Amphispiza bilineata         232\n",
      "Amphespiza bilineata           7\n",
      "Ammodramus savannarum          2\n",
      "Ammospermophilis harrisi       1\n",
      "Ammospermophilus harrisii      1\n",
      "Name: scientificName, dtype: int64\n",
      "NAN:  0\n",
      "ECUADOR                     270\n",
      "UNITED STATES               231\n",
      "AUSTRALIA                   102\n",
      "HT                           33\n",
      "United States of America     21\n",
      "US                           15\n",
      "INDIA                         6\n",
      "Name: country, dtype: int64\n"
     ]
    }
   ],
   "source": [
    "#remove extra spacing\n",
    "data['scientificName'] = remove_extra_spaces(data['scientificName'])\n",
    "data['country'] = remove_extra_spaces(data['country'])\n",
    "\n",
    "#text facets\n",
    "text_facet(data['scientificName'])\n",
    "text_facet(data['country'])\n",
    "\n",
    "#replace scientific name with corrected spelling and format\n",
    "data.replace( {'Ammospermophilus harrisi':'Ammospermophilus harrisii', 'Amphispiza bilineata':'Amphispiza bilineata',\n",
    "               'Amphespiza bilineata':'Amphispiza bilineata', 'Ammodramus savannarum': 'Ammodramus savannarum',\n",
    "               'Ammospermophilis harrisi':'Ammospermophilus harrisii', 'Ammospermophilus harrisii ':'Ammospermophilus harrisii'\n",
    "               }, inplace = True)\n",
    "\n",
    "#unify format of countries\n",
    "data.replace(to_replace=[\"UNITED STATES\", \"US\",\"United States of America\"], value=\"USA\", inplace = True)\n",
    "data.replace(to_replace='ECUADOR', value=\"Ecuador\", inplace = True)\n",
    "data.replace(to_replace='AUSTRALIA', value=\"Australia\", inplace = True)\n",
    "data.replace(to_replace='HT', value=\"Haiti\", inplace = True)\n",
    "data.replace(to_replace='INDIA', value=\"India\", inplace = True)"
   ],
   "metadata": {
    "collapsed": false,
    "pycharm": {
     "name": "#%%\n"
    }
   }
  },
  {
   "cell_type": "markdown",
   "source": [
    "replacing empty values in state with country\n",
    "repacling empty values in county with state"
   ],
   "metadata": {
    "collapsed": false,
    "pycharm": {
     "name": "#%% md\n"
    }
   }
  },
  {
   "cell_type": "code",
   "execution_count": 28,
   "outputs": [
    {
     "name": "stdout",
     "output_type": "stream",
     "text": [
      "NAN:  0\n",
      "Zamora-Chinchipe Province    207\n",
      "USA                          177\n",
      "Australia                    102\n",
      "Loja Province                 63\n",
      "Idaho                         48\n",
      "Haiti                         33\n",
      "Florida                       21\n",
      "Washington                    21\n",
      "Tamil Name                     3\n",
      "West bengal                    3\n",
      "Name: state, dtype: int64\n",
      "NAN:  0\n",
      "Zamora-Chinchipe Province    207\n",
      "USA                          177\n",
      "Australia                    102\n",
      "Loja Province                 63\n",
      "Idaho                         48\n",
      "Haiti                         33\n",
      "Jefferson                     12\n",
      "Lewis                          9\n",
      "Escambia                       3\n",
      "Hernando                       3\n",
      "Wakulla                        3\n",
      "Jackson                        3\n",
      "Leon                           3\n",
      "Krishnagiri                    3\n",
      "Franklin                       3\n",
      "Gadsden                        3\n",
      "Siligury                       3\n",
      "Name: county, dtype: int64\n"
     ]
    }
   ],
   "source": [
    "data['state'].fillna(data['country'], inplace = True)\n",
    "data['county'].fillna(data['state'], inplace = True)\n",
    "#check if applied\n",
    "text_facet(data['state'])\n",
    "text_facet(data['county'])"
   ],
   "metadata": {
    "collapsed": false,
    "pycharm": {
     "name": "#%%\n"
    }
   }
  },
  {
   "cell_type": "markdown",
   "source": [
    "clustering on scientificName, k is given by the amount of unique values in column"
   ],
   "metadata": {
    "collapsed": false,
    "pycharm": {
     "name": "#%% md\n"
    }
   }
  },
  {
   "cell_type": "code",
   "execution_count": 29,
   "outputs": [
    {
     "name": "stdout",
     "output_type": "stream",
     "text": [
      "          Cluster 0         Cluster 1   Cluster 2         Cluster 3\n",
      "0          harrisii         bilineata  savannarum         bilineata\n",
      "1  ammospermophilus        amphispiza  ammodramus        amphispiza\n",
      "2        savannarum        savannarum    harrisii        savannarum\n",
      "3         bilineata          harrisii   bilineata          harrisii\n",
      "4        amphispiza  ammospermophilus  amphispiza  ammospermophilus\n"
     ]
    },
    {
     "name": "stderr",
     "output_type": "stream",
     "text": [
      "C:\\Users\\Kiana Greek\\AppData\\Local\\Temp\\ipykernel_11528\\1076401434.py:22: ConvergenceWarning: Number of distinct clusters (3) found smaller than n_clusters (4). Possibly due to duplicate points in X.\n",
      "  kmeans.fit(v) #fit the model\n"
     ]
    }
   ],
   "source": [
    "cluster(data['scientificName'], 4)"
   ],
   "metadata": {
    "collapsed": false,
    "pycharm": {
     "name": "#%%\n"
    }
   }
  },
  {
   "cell_type": "code",
   "execution_count": 30,
   "outputs": [
    {
     "name": "stdout",
     "output_type": "stream",
     "text": [
      "  Cluster 0 Cluster 1 Cluster 2\n",
      "0        ab        ah        as\n",
      "1        as        as        ah\n",
      "2        ah        ab        ab\n"
     ]
    }
   ],
   "source": [
    "cluster(data['species'],3)"
   ],
   "metadata": {
    "collapsed": false,
    "pycharm": {
     "name": "#%%\n"
    }
   }
  },
  {
   "cell_type": "markdown",
   "source": [
    "split scientificName column into 2 columns (12 and 13)"
   ],
   "metadata": {
    "collapsed": false,
    "pycharm": {
     "name": "#%% md\n"
    }
   }
  },
  {
   "cell_type": "code",
   "execution_count": 31,
   "outputs": [
    {
     "data": {
      "text/plain": "                              survey_id  recordID  mo  dy    yr  period  \\\n0  491ec41b-0a80-4ce9-b754-2983c6f38e71      6545   9  18  1982    62.0   \n1  f280bade-4e9b-447d-afe0-9e6d45e6bfb0      5220   1  24  1982    54.0   \n2  2b1b4a8a-c3e9-4781-a5f9-18b081383876     18932   8   7  1991   162.0   \n3  e98e66c4-514b-45f7-9d95-336c05a72b21     20588   1  24  1993   179.0   \n4  768cdd0d-93bc-4c74-9dcd-d1ed48b7501e      7020  11  21  1982    63.0   \n\n                                plot_id  plot  note1  stake  ... ltag note3  \\\n0  4dc16022-f28d-4b9d-9062-c7bc3ad43362    13   13.0   36.0  ...  NaN   NaN   \n1  dcbbd373-c22e-46ef-ae8b-ad88f5cf7475    20   13.0   27.0  ...  NaN   NaN   \n2  1e87b11b-4795-4f41-bdff-2d5c4412be25    19   13.0   33.0  ...  NaN   NaN   \n3  91829d58-c12e-47e8-ae31-185f46be21d2    12   13.0   41.0  ...  NaN   NaN   \n4  f24f2db6-eadd-4de9-9d2f-95aea376c013    24   13.0   72.0  ...  NaN   NaN   \n\n  prevrt prevlet  nestdir  neststk note4 note5           Species       Genus  \n0    NaN     NaN      NaN      NaN   NaN   NaN        Amphispiza   bilineata  \n1    NaN     NaN      NaN      NaN   NaN   NaN        Amphispiza   bilineata  \n2    NaN     NaN      NaN      NaN   NaN     D        Ammodramus  savannarum  \n3    NaN     NaN      NaN      NaN   NaN   NaN        Ammodramus  savannarum  \n4    NaN     NaN      NaN      NaN   NaN   NaN  Ammospermophilus    harrisii  \n\n[5 rows x 41 columns]",
      "text/html": "<div>\n<style scoped>\n    .dataframe tbody tr th:only-of-type {\n        vertical-align: middle;\n    }\n\n    .dataframe tbody tr th {\n        vertical-align: top;\n    }\n\n    .dataframe thead th {\n        text-align: right;\n    }\n</style>\n<table border=\"1\" class=\"dataframe\">\n  <thead>\n    <tr style=\"text-align: right;\">\n      <th></th>\n      <th>survey_id</th>\n      <th>recordID</th>\n      <th>mo</th>\n      <th>dy</th>\n      <th>yr</th>\n      <th>period</th>\n      <th>plot_id</th>\n      <th>plot</th>\n      <th>note1</th>\n      <th>stake</th>\n      <th>...</th>\n      <th>ltag</th>\n      <th>note3</th>\n      <th>prevrt</th>\n      <th>prevlet</th>\n      <th>nestdir</th>\n      <th>neststk</th>\n      <th>note4</th>\n      <th>note5</th>\n      <th>Species</th>\n      <th>Genus</th>\n    </tr>\n  </thead>\n  <tbody>\n    <tr>\n      <th>0</th>\n      <td>491ec41b-0a80-4ce9-b754-2983c6f38e71</td>\n      <td>6545</td>\n      <td>9</td>\n      <td>18</td>\n      <td>1982</td>\n      <td>62.0</td>\n      <td>4dc16022-f28d-4b9d-9062-c7bc3ad43362</td>\n      <td>13</td>\n      <td>13.0</td>\n      <td>36.0</td>\n      <td>...</td>\n      <td>NaN</td>\n      <td>NaN</td>\n      <td>NaN</td>\n      <td>NaN</td>\n      <td>NaN</td>\n      <td>NaN</td>\n      <td>NaN</td>\n      <td>NaN</td>\n      <td>Amphispiza</td>\n      <td>bilineata</td>\n    </tr>\n    <tr>\n      <th>1</th>\n      <td>f280bade-4e9b-447d-afe0-9e6d45e6bfb0</td>\n      <td>5220</td>\n      <td>1</td>\n      <td>24</td>\n      <td>1982</td>\n      <td>54.0</td>\n      <td>dcbbd373-c22e-46ef-ae8b-ad88f5cf7475</td>\n      <td>20</td>\n      <td>13.0</td>\n      <td>27.0</td>\n      <td>...</td>\n      <td>NaN</td>\n      <td>NaN</td>\n      <td>NaN</td>\n      <td>NaN</td>\n      <td>NaN</td>\n      <td>NaN</td>\n      <td>NaN</td>\n      <td>NaN</td>\n      <td>Amphispiza</td>\n      <td>bilineata</td>\n    </tr>\n    <tr>\n      <th>2</th>\n      <td>2b1b4a8a-c3e9-4781-a5f9-18b081383876</td>\n      <td>18932</td>\n      <td>8</td>\n      <td>7</td>\n      <td>1991</td>\n      <td>162.0</td>\n      <td>1e87b11b-4795-4f41-bdff-2d5c4412be25</td>\n      <td>19</td>\n      <td>13.0</td>\n      <td>33.0</td>\n      <td>...</td>\n      <td>NaN</td>\n      <td>NaN</td>\n      <td>NaN</td>\n      <td>NaN</td>\n      <td>NaN</td>\n      <td>NaN</td>\n      <td>NaN</td>\n      <td>D</td>\n      <td>Ammodramus</td>\n      <td>savannarum</td>\n    </tr>\n    <tr>\n      <th>3</th>\n      <td>e98e66c4-514b-45f7-9d95-336c05a72b21</td>\n      <td>20588</td>\n      <td>1</td>\n      <td>24</td>\n      <td>1993</td>\n      <td>179.0</td>\n      <td>91829d58-c12e-47e8-ae31-185f46be21d2</td>\n      <td>12</td>\n      <td>13.0</td>\n      <td>41.0</td>\n      <td>...</td>\n      <td>NaN</td>\n      <td>NaN</td>\n      <td>NaN</td>\n      <td>NaN</td>\n      <td>NaN</td>\n      <td>NaN</td>\n      <td>NaN</td>\n      <td>NaN</td>\n      <td>Ammodramus</td>\n      <td>savannarum</td>\n    </tr>\n    <tr>\n      <th>4</th>\n      <td>768cdd0d-93bc-4c74-9dcd-d1ed48b7501e</td>\n      <td>7020</td>\n      <td>11</td>\n      <td>21</td>\n      <td>1982</td>\n      <td>63.0</td>\n      <td>f24f2db6-eadd-4de9-9d2f-95aea376c013</td>\n      <td>24</td>\n      <td>13.0</td>\n      <td>72.0</td>\n      <td>...</td>\n      <td>NaN</td>\n      <td>NaN</td>\n      <td>NaN</td>\n      <td>NaN</td>\n      <td>NaN</td>\n      <td>NaN</td>\n      <td>NaN</td>\n      <td>NaN</td>\n      <td>Ammospermophilus</td>\n      <td>harrisii</td>\n    </tr>\n  </tbody>\n</table>\n<p>5 rows × 41 columns</p>\n</div>"
     },
     "execution_count": 31,
     "metadata": {},
     "output_type": "execute_result"
    }
   ],
   "source": [
    "df = pd.DataFrame()\n",
    "data[['Species','Genus']] = data.scientificName.str.split(\" \",expand = True)\n",
    "#check if added to end\n",
    "data.head()"
   ],
   "metadata": {
    "collapsed": false,
    "pycharm": {
     "name": "#%%\n"
    }
   }
  },
  {
   "cell_type": "code",
   "execution_count": 32,
   "outputs": [
    {
     "data": {
      "text/plain": "                              survey_id  recordID  mo  dy    yr  period  \\\n0  491ec41b-0a80-4ce9-b754-2983c6f38e71      6545   9  18  1982    62.0   \n1  f280bade-4e9b-447d-afe0-9e6d45e6bfb0      5220   1  24  1982    54.0   \n2  2b1b4a8a-c3e9-4781-a5f9-18b081383876     18932   8   7  1991   162.0   \n3  e98e66c4-514b-45f7-9d95-336c05a72b21     20588   1  24  1993   179.0   \n4  768cdd0d-93bc-4c74-9dcd-d1ed48b7501e      7020  11  21  1982    63.0   \n\n                                plot_id  plot  note1  stake  ...  tag note2  \\\n0  4dc16022-f28d-4b9d-9062-c7bc3ad43362    13   13.0   36.0  ...  NaN   NaN   \n1  dcbbd373-c22e-46ef-ae8b-ad88f5cf7475    20   13.0   27.0  ...  NaN   NaN   \n2  1e87b11b-4795-4f41-bdff-2d5c4412be25    19   13.0   33.0  ...  NaN   NaN   \n3  91829d58-c12e-47e8-ae31-185f46be21d2    12   13.0   41.0  ...  NaN   NaN   \n4  f24f2db6-eadd-4de9-9d2f-95aea376c013    24   13.0   72.0  ...  NaN   NaN   \n\n  ltag note3 prevrt prevlet  nestdir  neststk note4 note5  \n0  NaN   NaN    NaN     NaN      NaN      NaN   NaN   NaN  \n1  NaN   NaN    NaN     NaN      NaN      NaN   NaN   NaN  \n2  NaN   NaN    NaN     NaN      NaN      NaN   NaN     D  \n3  NaN   NaN    NaN     NaN      NaN      NaN   NaN   NaN  \n4  NaN   NaN    NaN     NaN      NaN      NaN   NaN   NaN  \n\n[5 rows x 41 columns]",
      "text/html": "<div>\n<style scoped>\n    .dataframe tbody tr th:only-of-type {\n        vertical-align: middle;\n    }\n\n    .dataframe tbody tr th {\n        vertical-align: top;\n    }\n\n    .dataframe thead th {\n        text-align: right;\n    }\n</style>\n<table border=\"1\" class=\"dataframe\">\n  <thead>\n    <tr style=\"text-align: right;\">\n      <th></th>\n      <th>survey_id</th>\n      <th>recordID</th>\n      <th>mo</th>\n      <th>dy</th>\n      <th>yr</th>\n      <th>period</th>\n      <th>plot_id</th>\n      <th>plot</th>\n      <th>note1</th>\n      <th>stake</th>\n      <th>...</th>\n      <th>tag</th>\n      <th>note2</th>\n      <th>ltag</th>\n      <th>note3</th>\n      <th>prevrt</th>\n      <th>prevlet</th>\n      <th>nestdir</th>\n      <th>neststk</th>\n      <th>note4</th>\n      <th>note5</th>\n    </tr>\n  </thead>\n  <tbody>\n    <tr>\n      <th>0</th>\n      <td>491ec41b-0a80-4ce9-b754-2983c6f38e71</td>\n      <td>6545</td>\n      <td>9</td>\n      <td>18</td>\n      <td>1982</td>\n      <td>62.0</td>\n      <td>4dc16022-f28d-4b9d-9062-c7bc3ad43362</td>\n      <td>13</td>\n      <td>13.0</td>\n      <td>36.0</td>\n      <td>...</td>\n      <td>NaN</td>\n      <td>NaN</td>\n      <td>NaN</td>\n      <td>NaN</td>\n      <td>NaN</td>\n      <td>NaN</td>\n      <td>NaN</td>\n      <td>NaN</td>\n      <td>NaN</td>\n      <td>NaN</td>\n    </tr>\n    <tr>\n      <th>1</th>\n      <td>f280bade-4e9b-447d-afe0-9e6d45e6bfb0</td>\n      <td>5220</td>\n      <td>1</td>\n      <td>24</td>\n      <td>1982</td>\n      <td>54.0</td>\n      <td>dcbbd373-c22e-46ef-ae8b-ad88f5cf7475</td>\n      <td>20</td>\n      <td>13.0</td>\n      <td>27.0</td>\n      <td>...</td>\n      <td>NaN</td>\n      <td>NaN</td>\n      <td>NaN</td>\n      <td>NaN</td>\n      <td>NaN</td>\n      <td>NaN</td>\n      <td>NaN</td>\n      <td>NaN</td>\n      <td>NaN</td>\n      <td>NaN</td>\n    </tr>\n    <tr>\n      <th>2</th>\n      <td>2b1b4a8a-c3e9-4781-a5f9-18b081383876</td>\n      <td>18932</td>\n      <td>8</td>\n      <td>7</td>\n      <td>1991</td>\n      <td>162.0</td>\n      <td>1e87b11b-4795-4f41-bdff-2d5c4412be25</td>\n      <td>19</td>\n      <td>13.0</td>\n      <td>33.0</td>\n      <td>...</td>\n      <td>NaN</td>\n      <td>NaN</td>\n      <td>NaN</td>\n      <td>NaN</td>\n      <td>NaN</td>\n      <td>NaN</td>\n      <td>NaN</td>\n      <td>NaN</td>\n      <td>NaN</td>\n      <td>D</td>\n    </tr>\n    <tr>\n      <th>3</th>\n      <td>e98e66c4-514b-45f7-9d95-336c05a72b21</td>\n      <td>20588</td>\n      <td>1</td>\n      <td>24</td>\n      <td>1993</td>\n      <td>179.0</td>\n      <td>91829d58-c12e-47e8-ae31-185f46be21d2</td>\n      <td>12</td>\n      <td>13.0</td>\n      <td>41.0</td>\n      <td>...</td>\n      <td>NaN</td>\n      <td>NaN</td>\n      <td>NaN</td>\n      <td>NaN</td>\n      <td>NaN</td>\n      <td>NaN</td>\n      <td>NaN</td>\n      <td>NaN</td>\n      <td>NaN</td>\n      <td>NaN</td>\n    </tr>\n    <tr>\n      <th>4</th>\n      <td>768cdd0d-93bc-4c74-9dcd-d1ed48b7501e</td>\n      <td>7020</td>\n      <td>11</td>\n      <td>21</td>\n      <td>1982</td>\n      <td>63.0</td>\n      <td>f24f2db6-eadd-4de9-9d2f-95aea376c013</td>\n      <td>24</td>\n      <td>13.0</td>\n      <td>72.0</td>\n      <td>...</td>\n      <td>NaN</td>\n      <td>NaN</td>\n      <td>NaN</td>\n      <td>NaN</td>\n      <td>NaN</td>\n      <td>NaN</td>\n      <td>NaN</td>\n      <td>NaN</td>\n      <td>NaN</td>\n      <td>NaN</td>\n    </tr>\n  </tbody>\n</table>\n<p>5 rows × 41 columns</p>\n</div>"
     },
     "execution_count": 32,
     "metadata": {},
     "output_type": "execute_result"
    }
   ],
   "source": [
    "#copy of species and genus\n",
    "col_species = data['Species'].copy()\n",
    "col_genus = data['Genus'].copy()\n",
    "\n",
    "#remove genus & species column from data\n",
    "data.drop(['Species','Genus'], inplace=True, axis=1)\n",
    "\n",
    "#find index of scientificName to insert columns after\n",
    "count = 0\n",
    "for i in data.columns:\n",
    "    if i == 'scientificName':\n",
    "        index = count\n",
    "        break\n",
    "    count += 1\n",
    "\n",
    "#insert species & genus after scientificName column\n",
    "data.insert(loc = (count + 1), column = \"Species - Scientific Name\", value = col_species)\n",
    "data.insert(loc = 13, column = \"Genus\", value = col_genus)\n",
    "data.head()"
   ],
   "metadata": {
    "collapsed": false,
    "pycharm": {
     "name": "#%%\n"
    }
   }
  },
  {
   "cell_type": "code",
   "execution_count": 32,
   "outputs": [],
   "source": [],
   "metadata": {
    "collapsed": false,
    "pycharm": {
     "name": "#%%\n"
    }
   }
  }
 ],
 "metadata": {
  "kernelspec": {
   "display_name": "Python 3",
   "language": "python",
   "name": "python3"
  },
  "language_info": {
   "codemirror_mode": {
    "name": "ipython",
    "version": 2
   },
   "file_extension": ".py",
   "mimetype": "text/x-python",
   "name": "python",
   "nbconvert_exporter": "python",
   "pygments_lexer": "ipython2",
   "version": "2.7.6"
  }
 },
 "nbformat": 4,
 "nbformat_minor": 0
}