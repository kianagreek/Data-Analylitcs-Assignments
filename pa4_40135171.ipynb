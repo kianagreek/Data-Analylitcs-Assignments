{
 "cells": [
  {
   "cell_type": "markdown",
   "source": [
    "ASSIGNMENT 4\n",
    "--\n",
    "Kiana Greek, 40135171\n",
    "COMP 333 - Data Anayltics\n",
    "Task: Use python and it's libraries to perform EDA & story telling on titanic data on child survival rate\n",
    "Input: Data for Titanic passengers & survival"
   ],
   "metadata": {
    "collapsed": false,
    "pycharm": {
     "name": "#%% md\n"
    }
   }
  },
  {
   "cell_type": "code",
   "execution_count": 11,
   "outputs": [
    {
     "data": {
      "text/plain": "   PassengerId  Survived  Pclass  \\\n0            1         0       3   \n1            2         1       1   \n2            3         1       3   \n3            4         1       1   \n4            5         0       3   \n\n                                                Name     Sex   Age  SibSp  \\\n0                            Braund, Mr. Owen Harris    male  22.0      1   \n1  Cumings, Mrs. John Bradley (Florence Briggs Th...  female  38.0      1   \n2                             Heikkinen, Miss. Laina  female  26.0      0   \n3       Futrelle, Mrs. Jacques Heath (Lily May Peel)  female  35.0      1   \n4                           Allen, Mr. William Henry    male  35.0      0   \n\n   Parch            Ticket     Fare Cabin Embarked  \n0      0         A/5 21171   7.2500   NaN        S  \n1      0          PC 17599  71.2833   C85        C  \n2      0  STON/O2. 3101282   7.9250   NaN        S  \n3      0            113803  53.1000  C123        S  \n4      0            373450   8.0500   NaN        S  ",
      "text/html": "<div>\n<style scoped>\n    .dataframe tbody tr th:only-of-type {\n        vertical-align: middle;\n    }\n\n    .dataframe tbody tr th {\n        vertical-align: top;\n    }\n\n    .dataframe thead th {\n        text-align: right;\n    }\n</style>\n<table border=\"1\" class=\"dataframe\">\n  <thead>\n    <tr style=\"text-align: right;\">\n      <th></th>\n      <th>PassengerId</th>\n      <th>Survived</th>\n      <th>Pclass</th>\n      <th>Name</th>\n      <th>Sex</th>\n      <th>Age</th>\n      <th>SibSp</th>\n      <th>Parch</th>\n      <th>Ticket</th>\n      <th>Fare</th>\n      <th>Cabin</th>\n      <th>Embarked</th>\n    </tr>\n  </thead>\n  <tbody>\n    <tr>\n      <th>0</th>\n      <td>1</td>\n      <td>0</td>\n      <td>3</td>\n      <td>Braund, Mr. Owen Harris</td>\n      <td>male</td>\n      <td>22.0</td>\n      <td>1</td>\n      <td>0</td>\n      <td>A/5 21171</td>\n      <td>7.2500</td>\n      <td>NaN</td>\n      <td>S</td>\n    </tr>\n    <tr>\n      <th>1</th>\n      <td>2</td>\n      <td>1</td>\n      <td>1</td>\n      <td>Cumings, Mrs. John Bradley (Florence Briggs Th...</td>\n      <td>female</td>\n      <td>38.0</td>\n      <td>1</td>\n      <td>0</td>\n      <td>PC 17599</td>\n      <td>71.2833</td>\n      <td>C85</td>\n      <td>C</td>\n    </tr>\n    <tr>\n      <th>2</th>\n      <td>3</td>\n      <td>1</td>\n      <td>3</td>\n      <td>Heikkinen, Miss. Laina</td>\n      <td>female</td>\n      <td>26.0</td>\n      <td>0</td>\n      <td>0</td>\n      <td>STON/O2. 3101282</td>\n      <td>7.9250</td>\n      <td>NaN</td>\n      <td>S</td>\n    </tr>\n    <tr>\n      <th>3</th>\n      <td>4</td>\n      <td>1</td>\n      <td>1</td>\n      <td>Futrelle, Mrs. Jacques Heath (Lily May Peel)</td>\n      <td>female</td>\n      <td>35.0</td>\n      <td>1</td>\n      <td>0</td>\n      <td>113803</td>\n      <td>53.1000</td>\n      <td>C123</td>\n      <td>S</td>\n    </tr>\n    <tr>\n      <th>4</th>\n      <td>5</td>\n      <td>0</td>\n      <td>3</td>\n      <td>Allen, Mr. William Henry</td>\n      <td>male</td>\n      <td>35.0</td>\n      <td>0</td>\n      <td>0</td>\n      <td>373450</td>\n      <td>8.0500</td>\n      <td>NaN</td>\n      <td>S</td>\n    </tr>\n  </tbody>\n</table>\n</div>"
     },
     "execution_count": 11,
     "metadata": {},
     "output_type": "execute_result"
    }
   ],
   "source": [
    "#import libraries\n",
    "import pandas as pd\n",
    "from matplotlib import pyplot as plt\n",
    "%matplotlib inline\n",
    "\n",
    "#import data\n",
    "temp_data = pd.read_csv(\"titanic/train.csv\")\n",
    "temp_data.head()"
   ],
   "metadata": {
    "collapsed": false,
    "pycharm": {
     "name": "#%%\n"
    }
   }
  },
  {
   "cell_type": "code",
   "execution_count": 12,
   "outputs": [
    {
     "name": "stdout",
     "output_type": "stream",
     "text": [
      "PassengerId    891\n",
      "Survived       891\n",
      "Pclass         891\n",
      "Name           891\n",
      "Sex            891\n",
      "Age            714\n",
      "SibSp          891\n",
      "Parch          891\n",
      "Ticket         891\n",
      "Fare           891\n",
      "Cabin          204\n",
      "Embarked       889\n",
      "dtype: int64\n",
      "0    549\n",
      "1    342\n",
      "Name: Survived, dtype: int64\n"
     ]
    }
   ],
   "source": [
    "#amount of passengers on board and number of survivors of whole dataset\n",
    "print(temp_data.count())\n",
    "print(temp_data.Survived.value_counts())"
   ],
   "metadata": {
    "collapsed": false,
    "pycharm": {
     "name": "#%%\n"
    }
   }
  },
  {
   "cell_type": "markdown",
   "source": [
    "Situation - The titanic had 2240 passengers/crew members on board when it sank. We have the information of 891 passengers."
   ],
   "metadata": {
    "collapsed": false,
    "pycharm": {
     "name": "#%% md\n"
    }
   }
  },
  {
   "cell_type": "markdown",
   "source": [
    "For assignment, we are working on the subset of data that contains children. I will use the ages 0-17 as the child category.\n",
    "Extract data for children into another dataframe that I will use for the rest of the assignment."
   ],
   "metadata": {
    "collapsed": false,
    "pycharm": {
     "name": "#%% md\n"
    }
   }
  },
  {
   "cell_type": "code",
   "execution_count": 13,
   "outputs": [
    {
     "name": "stdout",
     "output_type": "stream",
     "text": [
      "Number of duplicate entries:  0\n"
     ]
    },
    {
     "data": {
      "text/plain": "    PassengerId  Survived  Pclass                                  Name  \\\n7             8         0       3        Palsson, Master. Gosta Leonard   \n9            10         1       2   Nasser, Mrs. Nicholas (Adele Achem)   \n10           11         1       3       Sandstrom, Miss. Marguerite Rut   \n14           15         0       3  Vestrom, Miss. Hulda Amanda Adolfina   \n16           17         0       3                  Rice, Master. Eugene   \n\n       Sex   Age  SibSp  Parch   Ticket     Fare Cabin Embarked  \n7     male   2.0      3      1   349909  21.0750   NaN        S  \n9   female  14.0      1      0   237736  30.0708   NaN        C  \n10  female   4.0      1      1  PP 9549  16.7000    G6        S  \n14  female  14.0      0      0   350406   7.8542   NaN        S  \n16    male   2.0      4      1   382652  29.1250   NaN        Q  ",
      "text/html": "<div>\n<style scoped>\n    .dataframe tbody tr th:only-of-type {\n        vertical-align: middle;\n    }\n\n    .dataframe tbody tr th {\n        vertical-align: top;\n    }\n\n    .dataframe thead th {\n        text-align: right;\n    }\n</style>\n<table border=\"1\" class=\"dataframe\">\n  <thead>\n    <tr style=\"text-align: right;\">\n      <th></th>\n      <th>PassengerId</th>\n      <th>Survived</th>\n      <th>Pclass</th>\n      <th>Name</th>\n      <th>Sex</th>\n      <th>Age</th>\n      <th>SibSp</th>\n      <th>Parch</th>\n      <th>Ticket</th>\n      <th>Fare</th>\n      <th>Cabin</th>\n      <th>Embarked</th>\n    </tr>\n  </thead>\n  <tbody>\n    <tr>\n      <th>7</th>\n      <td>8</td>\n      <td>0</td>\n      <td>3</td>\n      <td>Palsson, Master. Gosta Leonard</td>\n      <td>male</td>\n      <td>2.0</td>\n      <td>3</td>\n      <td>1</td>\n      <td>349909</td>\n      <td>21.0750</td>\n      <td>NaN</td>\n      <td>S</td>\n    </tr>\n    <tr>\n      <th>9</th>\n      <td>10</td>\n      <td>1</td>\n      <td>2</td>\n      <td>Nasser, Mrs. Nicholas (Adele Achem)</td>\n      <td>female</td>\n      <td>14.0</td>\n      <td>1</td>\n      <td>0</td>\n      <td>237736</td>\n      <td>30.0708</td>\n      <td>NaN</td>\n      <td>C</td>\n    </tr>\n    <tr>\n      <th>10</th>\n      <td>11</td>\n      <td>1</td>\n      <td>3</td>\n      <td>Sandstrom, Miss. Marguerite Rut</td>\n      <td>female</td>\n      <td>4.0</td>\n      <td>1</td>\n      <td>1</td>\n      <td>PP 9549</td>\n      <td>16.7000</td>\n      <td>G6</td>\n      <td>S</td>\n    </tr>\n    <tr>\n      <th>14</th>\n      <td>15</td>\n      <td>0</td>\n      <td>3</td>\n      <td>Vestrom, Miss. Hulda Amanda Adolfina</td>\n      <td>female</td>\n      <td>14.0</td>\n      <td>0</td>\n      <td>0</td>\n      <td>350406</td>\n      <td>7.8542</td>\n      <td>NaN</td>\n      <td>S</td>\n    </tr>\n    <tr>\n      <th>16</th>\n      <td>17</td>\n      <td>0</td>\n      <td>3</td>\n      <td>Rice, Master. Eugene</td>\n      <td>male</td>\n      <td>2.0</td>\n      <td>4</td>\n      <td>1</td>\n      <td>382652</td>\n      <td>29.1250</td>\n      <td>NaN</td>\n      <td>Q</td>\n    </tr>\n  </tbody>\n</table>\n</div>"
     },
     "execution_count": 13,
     "metadata": {},
     "output_type": "execute_result"
    }
   ],
   "source": [
    "data = temp_data.loc[(temp_data['Age'] >= 0) & (temp_data['Age'] <= 17)]\n",
    "\n",
    "#check number of duplicate entries\n",
    "print(\"Number of duplicate entries: \", data.duplicated().sum())\n",
    "\n",
    "#show first 5 entries\n",
    "data.head()"
   ],
   "metadata": {
    "collapsed": false,
    "pycharm": {
     "name": "#%%\n"
    }
   }
  },
  {
   "cell_type": "markdown",
   "source": [
    "Survived: 0 means no and 1 means yes\n",
    "Pclass: 3 classes of fares - 1 is upper class, 2 is middle class, 3 lower class\n",
    "SibSp: number of siblings and/or spouses on board\n",
    "Parch: number of parents and/or children on board (should be 0,1,2 since we're working with data on children)\n",
    "Ticket: ticket number\n",
    "Fare: ticket amount\n",
    "Cabin: cabin number\n",
    "Embarked: port of embarkation - C is Cherbourg, Q is Queenstown, S is Southampton\n",
    "\n",
    "Will analyze survival rate by sex, age, siblings on board, parents on board, class, port of embarkation, and cabin"
   ],
   "metadata": {
    "collapsed": false,
    "pycharm": {
     "name": "#%% md\n"
    }
   }
  },
  {
   "cell_type": "code",
   "execution_count": 14,
   "outputs": [
    {
     "data": {
      "text/plain": "    PassengerId  Survived  Pclass                                  Name  \\\n7             8         0       3        Palsson, Master. Gosta Leonard   \n9            10         1       2   Nasser, Mrs. Nicholas (Adele Achem)   \n10           11         1       3       Sandstrom, Miss. Marguerite Rut   \n14           15         0       3  Vestrom, Miss. Hulda Amanda Adolfina   \n16           17         0       3                  Rice, Master. Eugene   \n\n       Sex   Age  SibSp  Parch  Total Family   Ticket     Fare Cabin Embarked  \n7     male   2.0      3      1             4   349909  21.0750   NaN        S  \n9   female  14.0      1      0             1   237736  30.0708   NaN        C  \n10  female   4.0      1      1             2  PP 9549  16.7000    G6        S  \n14  female  14.0      0      0             0   350406   7.8542   NaN        S  \n16    male   2.0      4      1             5   382652  29.1250   NaN        Q  ",
      "text/html": "<div>\n<style scoped>\n    .dataframe tbody tr th:only-of-type {\n        vertical-align: middle;\n    }\n\n    .dataframe tbody tr th {\n        vertical-align: top;\n    }\n\n    .dataframe thead th {\n        text-align: right;\n    }\n</style>\n<table border=\"1\" class=\"dataframe\">\n  <thead>\n    <tr style=\"text-align: right;\">\n      <th></th>\n      <th>PassengerId</th>\n      <th>Survived</th>\n      <th>Pclass</th>\n      <th>Name</th>\n      <th>Sex</th>\n      <th>Age</th>\n      <th>SibSp</th>\n      <th>Parch</th>\n      <th>Total Family</th>\n      <th>Ticket</th>\n      <th>Fare</th>\n      <th>Cabin</th>\n      <th>Embarked</th>\n    </tr>\n  </thead>\n  <tbody>\n    <tr>\n      <th>7</th>\n      <td>8</td>\n      <td>0</td>\n      <td>3</td>\n      <td>Palsson, Master. Gosta Leonard</td>\n      <td>male</td>\n      <td>2.0</td>\n      <td>3</td>\n      <td>1</td>\n      <td>4</td>\n      <td>349909</td>\n      <td>21.0750</td>\n      <td>NaN</td>\n      <td>S</td>\n    </tr>\n    <tr>\n      <th>9</th>\n      <td>10</td>\n      <td>1</td>\n      <td>2</td>\n      <td>Nasser, Mrs. Nicholas (Adele Achem)</td>\n      <td>female</td>\n      <td>14.0</td>\n      <td>1</td>\n      <td>0</td>\n      <td>1</td>\n      <td>237736</td>\n      <td>30.0708</td>\n      <td>NaN</td>\n      <td>C</td>\n    </tr>\n    <tr>\n      <th>10</th>\n      <td>11</td>\n      <td>1</td>\n      <td>3</td>\n      <td>Sandstrom, Miss. Marguerite Rut</td>\n      <td>female</td>\n      <td>4.0</td>\n      <td>1</td>\n      <td>1</td>\n      <td>2</td>\n      <td>PP 9549</td>\n      <td>16.7000</td>\n      <td>G6</td>\n      <td>S</td>\n    </tr>\n    <tr>\n      <th>14</th>\n      <td>15</td>\n      <td>0</td>\n      <td>3</td>\n      <td>Vestrom, Miss. Hulda Amanda Adolfina</td>\n      <td>female</td>\n      <td>14.0</td>\n      <td>0</td>\n      <td>0</td>\n      <td>0</td>\n      <td>350406</td>\n      <td>7.8542</td>\n      <td>NaN</td>\n      <td>S</td>\n    </tr>\n    <tr>\n      <th>16</th>\n      <td>17</td>\n      <td>0</td>\n      <td>3</td>\n      <td>Rice, Master. Eugene</td>\n      <td>male</td>\n      <td>2.0</td>\n      <td>4</td>\n      <td>1</td>\n      <td>5</td>\n      <td>382652</td>\n      <td>29.1250</td>\n      <td>NaN</td>\n      <td>Q</td>\n    </tr>\n  </tbody>\n</table>\n</div>"
     },
     "execution_count": 14,
     "metadata": {},
     "output_type": "execute_result"
    }
   ],
   "source": [
    "#Add a new feature, size of family\n",
    "fam_members = data[['SibSp', 'Parch']]\n",
    "total = fam_members.sum(axis = 1)\n",
    "data.insert(8, 'Total Family',total)\n",
    "data.head()"
   ],
   "metadata": {
    "collapsed": false,
    "pycharm": {
     "name": "#%%\n"
    }
   }
  },
  {
   "cell_type": "markdown",
   "source": [
    "information on numeric data"
   ],
   "metadata": {
    "collapsed": false,
    "pycharm": {
     "name": "#%% md\n"
    }
   }
  },
  {
   "cell_type": "code",
   "execution_count": 15,
   "outputs": [
    {
     "data": {
      "text/plain": "       PassengerId    Survived      Pclass         Age       SibSp  \\\ncount   113.000000  113.000000  113.000000  113.000000  113.000000   \nmean    429.212389    0.539823    2.584071    9.041327    1.460177   \nstd     281.743819    0.500632    0.677781    6.030408    1.625881   \nmin       8.000000    0.000000    1.000000    0.420000    0.000000   \n25%     172.000000    0.000000    2.000000    3.000000    0.000000   \n50%     420.000000    1.000000    3.000000    9.000000    1.000000   \n75%     721.000000    1.000000    3.000000   16.000000    3.000000   \nmax     876.000000    1.000000    3.000000   17.000000    5.000000   \n\n            Parch  Total Family        Fare  \ncount  113.000000    113.000000  113.000000  \nmean     1.053097      2.513274   31.220798  \nstd      0.800008      2.109143   32.538092  \nmin      0.000000      0.000000    7.054200  \n25%      0.000000      1.000000   12.287500  \n50%      1.000000      2.000000   23.000000  \n75%      2.000000      4.000000   34.375000  \nmax      3.000000      7.000000  211.337500  ",
      "text/html": "<div>\n<style scoped>\n    .dataframe tbody tr th:only-of-type {\n        vertical-align: middle;\n    }\n\n    .dataframe tbody tr th {\n        vertical-align: top;\n    }\n\n    .dataframe thead th {\n        text-align: right;\n    }\n</style>\n<table border=\"1\" class=\"dataframe\">\n  <thead>\n    <tr style=\"text-align: right;\">\n      <th></th>\n      <th>PassengerId</th>\n      <th>Survived</th>\n      <th>Pclass</th>\n      <th>Age</th>\n      <th>SibSp</th>\n      <th>Parch</th>\n      <th>Total Family</th>\n      <th>Fare</th>\n    </tr>\n  </thead>\n  <tbody>\n    <tr>\n      <th>count</th>\n      <td>113.000000</td>\n      <td>113.000000</td>\n      <td>113.000000</td>\n      <td>113.000000</td>\n      <td>113.000000</td>\n      <td>113.000000</td>\n      <td>113.000000</td>\n      <td>113.000000</td>\n    </tr>\n    <tr>\n      <th>mean</th>\n      <td>429.212389</td>\n      <td>0.539823</td>\n      <td>2.584071</td>\n      <td>9.041327</td>\n      <td>1.460177</td>\n      <td>1.053097</td>\n      <td>2.513274</td>\n      <td>31.220798</td>\n    </tr>\n    <tr>\n      <th>std</th>\n      <td>281.743819</td>\n      <td>0.500632</td>\n      <td>0.677781</td>\n      <td>6.030408</td>\n      <td>1.625881</td>\n      <td>0.800008</td>\n      <td>2.109143</td>\n      <td>32.538092</td>\n    </tr>\n    <tr>\n      <th>min</th>\n      <td>8.000000</td>\n      <td>0.000000</td>\n      <td>1.000000</td>\n      <td>0.420000</td>\n      <td>0.000000</td>\n      <td>0.000000</td>\n      <td>0.000000</td>\n      <td>7.054200</td>\n    </tr>\n    <tr>\n      <th>25%</th>\n      <td>172.000000</td>\n      <td>0.000000</td>\n      <td>2.000000</td>\n      <td>3.000000</td>\n      <td>0.000000</td>\n      <td>0.000000</td>\n      <td>1.000000</td>\n      <td>12.287500</td>\n    </tr>\n    <tr>\n      <th>50%</th>\n      <td>420.000000</td>\n      <td>1.000000</td>\n      <td>3.000000</td>\n      <td>9.000000</td>\n      <td>1.000000</td>\n      <td>1.000000</td>\n      <td>2.000000</td>\n      <td>23.000000</td>\n    </tr>\n    <tr>\n      <th>75%</th>\n      <td>721.000000</td>\n      <td>1.000000</td>\n      <td>3.000000</td>\n      <td>16.000000</td>\n      <td>3.000000</td>\n      <td>2.000000</td>\n      <td>4.000000</td>\n      <td>34.375000</td>\n    </tr>\n    <tr>\n      <th>max</th>\n      <td>876.000000</td>\n      <td>1.000000</td>\n      <td>3.000000</td>\n      <td>17.000000</td>\n      <td>5.000000</td>\n      <td>3.000000</td>\n      <td>7.000000</td>\n      <td>211.337500</td>\n    </tr>\n  </tbody>\n</table>\n</div>"
     },
     "execution_count": 15,
     "metadata": {},
     "output_type": "execute_result"
    }
   ],
   "source": [
    "data.describe()"
   ],
   "metadata": {
    "collapsed": false,
    "pycharm": {
     "name": "#%%\n"
    }
   }
  },
  {
   "cell_type": "markdown",
   "source": [
    "finding the total amount of data and the survival rate with no variables taken into consideration"
   ],
   "metadata": {
    "collapsed": false,
    "pycharm": {
     "name": "#%% md\n"
    }
   }
  },
  {
   "cell_type": "code",
   "execution_count": 16,
   "outputs": [
    {
     "name": "stdout",
     "output_type": "stream",
     "text": [
      "Number of children on board:  113\n",
      "61 (54%) children survived\n",
      "52 (46%) children did not survive\n"
     ]
    },
    {
     "data": {
      "text/plain": "([<matplotlib.axis.XTick at 0x12899d9b3d0>,\n  <matplotlib.axis.XTick at 0x12899d9b3a0>],\n [Text(0, 0, 'Survived'), Text(1, 0, 'Did Not Survive')])"
     },
     "execution_count": 16,
     "metadata": {},
     "output_type": "execute_result"
    },
    {
     "data": {
      "text/plain": "<Figure size 640x480 with 1 Axes>",
      "image/png": "[encoded data removed]"
     },
     "metadata": {},
     "output_type": "display_data"
    }
   ],
   "source": [
    "#amount of survivors in dataset\n",
    "total_children = len(data)\n",
    "print(\"Number of children on board: \",total_children)\n",
    "\n",
    "#Number of children that survived\n",
    "num_survived = len(data[data.Survived == 1])\n",
    "print(num_survived,'({:.0f}%)'.format((num_survived/total_children)*100), 'children survived')\n",
    "\n",
    "#Number of children that did not survive\n",
    "num_died = len(data[data.Survived == 0])\n",
    "print(num_died,'({:.0f}%)'.format((num_died/total_children)*100), 'children did not survive')\n",
    "\n",
    "#graph for above data\n",
    "data.Survived.value_counts().plot(kind = 'bar', title = \"Child Survival Rate\")\n",
    "plt.xticks((0,1), labels=('Survived','Did Not Survive'), rotation= 0)"
   ],
   "metadata": {
    "collapsed": false,
    "pycharm": {
     "name": "#%%\n"
    }
   }
  },
  {
   "cell_type": "markdown",
   "source": [
    "More children survived than did not survive\n",
    "Problem - There were 113 children on board but only 61 survived."
   ],
   "metadata": {
    "collapsed": false,
    "pycharm": {
     "name": "#%% md\n"
    }
   }
  },
  {
   "cell_type": "markdown",
   "source": [
    "survival rate and age with a graph\n",
    "--\n",
    "graph for survival rate and age"
   ],
   "metadata": {
    "collapsed": false,
    "pycharm": {
     "name": "#%% md\n"
    }
   }
  },
  {
   "cell_type": "code",
   "execution_count": 17,
   "outputs": [
    {
     "name": "stdout",
     "output_type": "stream",
     "text": [
      "16.00    17\n",
      "17.00    13\n",
      "2.00     10\n",
      "4.00     10\n",
      "9.00      8\n",
      "1.00      7\n",
      "3.00      6\n",
      "14.00     6\n",
      "15.00     5\n",
      "11.00     4\n",
      "5.00      4\n",
      "8.00      4\n",
      "6.00      3\n",
      "7.00      3\n",
      "10.00     2\n",
      "0.75      2\n",
      "13.00     2\n",
      "0.83      2\n",
      "0.92      1\n",
      "12.00     1\n",
      "14.50     1\n",
      "0.67      1\n",
      "0.42      1\n",
      "Name: Age, dtype: int64\n"
     ]
    }
   ],
   "source": [
    "#checking distrubtion of data values\n",
    "print(data[\"Age\"].value_counts())"
   ],
   "metadata": {
    "collapsed": false,
    "pycharm": {
     "name": "#%%\n"
    }
   }
  },
  {
   "cell_type": "code",
   "execution_count": 18,
   "outputs": [
    {
     "data": {
      "text/plain": "<matplotlib.legend.Legend at 0x12896063af0>"
     },
     "execution_count": 18,
     "metadata": {},
     "output_type": "execute_result"
    },
    {
     "data": {
      "text/plain": "<Figure size 640x480 with 1 Axes>",
      "image/png": "[encoded data removed]"
     },
     "metadata": {},
     "output_type": "display_data"
    }
   ],
   "source": [
    "#create list of data for survival by age to plot\n",
    "x1 = list(data[data['Survived'] == 1]['Age'])\n",
    "x2 = list(data[data['Survived'] == 0][\"Age\"])\n",
    "#plot survival rate by age\n",
    "plt.hist([x1,x2,data['Age']],label=['Survived','Did Not Survive', 'Total Children'],bins=17)\n",
    "plt.xlabel(\"Age\")\n",
    "plt.xticks([1,2,3,4,5,6,7,8,9,10,11,12,13,14,15,16,17])\n",
    "plt.legend()"
   ],
   "metadata": {
    "collapsed": false,
    "pycharm": {
     "name": "#%%\n"
    }
   }
  },
  {
   "cell_type": "markdown",
   "source": [
    "Ages 5,12, and 13 had 100% survival rate. 1-year-olds and 3-year-olds have the 2nd best survival rate. Age 10 had no survivors. Ages 2,16,9, and 17 had the worst survival rates"
   ],
   "metadata": {
    "collapsed": false,
    "pycharm": {
     "name": "#%% md\n"
    }
   }
  },
  {
   "cell_type": "markdown",
   "source": [
    "Survival Rate by Sex\n",
    "--"
   ],
   "metadata": {
    "collapsed": false,
    "pycharm": {
     "name": "#%% md\n"
    }
   }
  },
  {
   "cell_type": "code",
   "execution_count": 19,
   "outputs": [
    {
     "data": {
      "text/plain": "male      58\nfemale    55\nName: Sex, dtype: int64"
     },
     "execution_count": 19,
     "metadata": {},
     "output_type": "execute_result"
    }
   ],
   "source": [
    "#value counts for Sex\n",
    "data[\"Sex\"].value_counts()"
   ],
   "metadata": {
    "collapsed": false,
    "pycharm": {
     "name": "#%%\n"
    }
   }
  },
  {
   "cell_type": "code",
   "execution_count": 20,
   "outputs": [
    {
     "ename": "ValueError",
     "evalue": "The number of FixedLocator locations (2), usually from a call to set_ticks, does not match the number of ticklabels (113).",
     "output_type": "error",
     "traceback": [
      "\u001B[1;31m---------------------------------------------------------------------------\u001B[0m",
      "\u001B[1;31mValueError\u001B[0m                                Traceback (most recent call last)",
      "Input \u001B[1;32mIn [20]\u001B[0m, in \u001B[0;36m<cell line: 8>\u001B[1;34m()\u001B[0m\n\u001B[0;32m      6\u001B[0m plt\u001B[38;5;241m.\u001B[39mhist([x1,x2],label\u001B[38;5;241m=\u001B[39m[\u001B[38;5;124m'\u001B[39m\u001B[38;5;124mSurvived\u001B[39m\u001B[38;5;124m'\u001B[39m,\u001B[38;5;124m'\u001B[39m\u001B[38;5;124mDid Not Survive\u001B[39m\u001B[38;5;124m'\u001B[39m],bins\u001B[38;5;241m=\u001B[39m\u001B[38;5;241m2\u001B[39m)\n\u001B[0;32m      7\u001B[0m plt\u001B[38;5;241m.\u001B[39mxlabel(\u001B[38;5;124m\"\u001B[39m\u001B[38;5;124mSex\u001B[39m\u001B[38;5;124m\"\u001B[39m)\n\u001B[1;32m----> 8\u001B[0m \u001B[43mplt\u001B[49m\u001B[38;5;241;43m.\u001B[39;49m\u001B[43mxticks\u001B[49m\u001B[43m(\u001B[49m\u001B[43mticks\u001B[49m\u001B[43m \u001B[49m\u001B[38;5;241;43m=\u001B[39;49m\u001B[43m \u001B[49m\u001B[43m[\u001B[49m\u001B[38;5;241;43m0\u001B[39;49m\u001B[43m,\u001B[49m\u001B[38;5;241;43m1\u001B[39;49m\u001B[43m]\u001B[49m\u001B[43m,\u001B[49m\u001B[43m \u001B[49m\u001B[43mlabels\u001B[49m\u001B[43m \u001B[49m\u001B[38;5;241;43m=\u001B[39;49m\u001B[43m \u001B[49m\u001B[43mdata\u001B[49m\u001B[38;5;241;43m.\u001B[39;49m\u001B[43mSex\u001B[49m\u001B[43m)\u001B[49m\n\u001B[0;32m      9\u001B[0m plt\u001B[38;5;241m.\u001B[39mlegend()\n",
      "File \u001B[1;32m~\\anaconda3\\envs\\comp 333\\lib\\site-packages\\matplotlib\\pyplot.py:1816\u001B[0m, in \u001B[0;36mxticks\u001B[1;34m(ticks, labels, **kwargs)\u001B[0m\n\u001B[0;32m   1814\u001B[0m         l\u001B[38;5;241m.\u001B[39mupdate(kwargs)\n\u001B[0;32m   1815\u001B[0m \u001B[38;5;28;01melse\u001B[39;00m:\n\u001B[1;32m-> 1816\u001B[0m     labels \u001B[38;5;241m=\u001B[39m ax\u001B[38;5;241m.\u001B[39mset_xticklabels(labels, \u001B[38;5;241m*\u001B[39m\u001B[38;5;241m*\u001B[39mkwargs)\n\u001B[0;32m   1818\u001B[0m \u001B[38;5;28;01mreturn\u001B[39;00m locs, labels\n",
      "File \u001B[1;32m~\\anaconda3\\envs\\comp 333\\lib\\site-packages\\matplotlib\\axes\\_base.py:75\u001B[0m, in \u001B[0;36m_axis_method_wrapper.__set_name__.<locals>.wrapper\u001B[1;34m(self, *args, **kwargs)\u001B[0m\n\u001B[0;32m     74\u001B[0m \u001B[38;5;28;01mdef\u001B[39;00m \u001B[38;5;21mwrapper\u001B[39m(\u001B[38;5;28mself\u001B[39m, \u001B[38;5;241m*\u001B[39margs, \u001B[38;5;241m*\u001B[39m\u001B[38;5;241m*\u001B[39mkwargs):\n\u001B[1;32m---> 75\u001B[0m     \u001B[38;5;28;01mreturn\u001B[39;00m get_method(\u001B[38;5;28mself\u001B[39m)(\u001B[38;5;241m*\u001B[39margs, \u001B[38;5;241m*\u001B[39m\u001B[38;5;241m*\u001B[39mkwargs)\n",
      "File \u001B[1;32m~\\anaconda3\\envs\\comp 333\\lib\\site-packages\\matplotlib\\axis.py:1798\u001B[0m, in \u001B[0;36mAxis._set_ticklabels\u001B[1;34m(self, labels, fontdict, minor, **kwargs)\u001B[0m\n\u001B[0;32m   1796\u001B[0m \u001B[38;5;28;01mif\u001B[39;00m fontdict \u001B[38;5;129;01mis\u001B[39;00m \u001B[38;5;129;01mnot\u001B[39;00m \u001B[38;5;28;01mNone\u001B[39;00m:\n\u001B[0;32m   1797\u001B[0m     kwargs\u001B[38;5;241m.\u001B[39mupdate(fontdict)\n\u001B[1;32m-> 1798\u001B[0m \u001B[38;5;28;01mreturn\u001B[39;00m \u001B[38;5;28mself\u001B[39m\u001B[38;5;241m.\u001B[39mset_ticklabels(labels, minor\u001B[38;5;241m=\u001B[39mminor, \u001B[38;5;241m*\u001B[39m\u001B[38;5;241m*\u001B[39mkwargs)\n",
      "File \u001B[1;32m~\\anaconda3\\envs\\comp 333\\lib\\site-packages\\matplotlib\\axis.py:1720\u001B[0m, in \u001B[0;36mAxis.set_ticklabels\u001B[1;34m(self, ticklabels, minor, **kwargs)\u001B[0m\n\u001B[0;32m   1716\u001B[0m \u001B[38;5;28;01mif\u001B[39;00m \u001B[38;5;28misinstance\u001B[39m(locator, mticker\u001B[38;5;241m.\u001B[39mFixedLocator):\n\u001B[0;32m   1717\u001B[0m     \u001B[38;5;66;03m# Passing [] as a list of ticklabels is often used as a way to\u001B[39;00m\n\u001B[0;32m   1718\u001B[0m     \u001B[38;5;66;03m# remove all tick labels, so only error for > 0 ticklabels\u001B[39;00m\n\u001B[0;32m   1719\u001B[0m     \u001B[38;5;28;01mif\u001B[39;00m \u001B[38;5;28mlen\u001B[39m(locator\u001B[38;5;241m.\u001B[39mlocs) \u001B[38;5;241m!=\u001B[39m \u001B[38;5;28mlen\u001B[39m(ticklabels) \u001B[38;5;129;01mand\u001B[39;00m \u001B[38;5;28mlen\u001B[39m(ticklabels) \u001B[38;5;241m!=\u001B[39m \u001B[38;5;241m0\u001B[39m:\n\u001B[1;32m-> 1720\u001B[0m         \u001B[38;5;28;01mraise\u001B[39;00m \u001B[38;5;167;01mValueError\u001B[39;00m(\n\u001B[0;32m   1721\u001B[0m             \u001B[38;5;124m\"\u001B[39m\u001B[38;5;124mThe number of FixedLocator locations\u001B[39m\u001B[38;5;124m\"\u001B[39m\n\u001B[0;32m   1722\u001B[0m             \u001B[38;5;124mf\u001B[39m\u001B[38;5;124m\"\u001B[39m\u001B[38;5;124m (\u001B[39m\u001B[38;5;132;01m{\u001B[39;00m\u001B[38;5;28mlen\u001B[39m(locator\u001B[38;5;241m.\u001B[39mlocs)\u001B[38;5;132;01m}\u001B[39;00m\u001B[38;5;124m), usually from a call to\u001B[39m\u001B[38;5;124m\"\u001B[39m\n\u001B[0;32m   1723\u001B[0m             \u001B[38;5;124m\"\u001B[39m\u001B[38;5;124m set_ticks, does not match\u001B[39m\u001B[38;5;124m\"\u001B[39m\n\u001B[0;32m   1724\u001B[0m             \u001B[38;5;124mf\u001B[39m\u001B[38;5;124m\"\u001B[39m\u001B[38;5;124m the number of ticklabels (\u001B[39m\u001B[38;5;132;01m{\u001B[39;00m\u001B[38;5;28mlen\u001B[39m(ticklabels)\u001B[38;5;132;01m}\u001B[39;00m\u001B[38;5;124m).\u001B[39m\u001B[38;5;124m\"\u001B[39m)\n\u001B[0;32m   1725\u001B[0m     tickd \u001B[38;5;241m=\u001B[39m {loc: lab \u001B[38;5;28;01mfor\u001B[39;00m loc, lab \u001B[38;5;129;01min\u001B[39;00m \u001B[38;5;28mzip\u001B[39m(locator\u001B[38;5;241m.\u001B[39mlocs, ticklabels)}\n\u001B[0;32m   1726\u001B[0m     func \u001B[38;5;241m=\u001B[39m functools\u001B[38;5;241m.\u001B[39mpartial(\u001B[38;5;28mself\u001B[39m\u001B[38;5;241m.\u001B[39m_format_with_dict, tickd)\n",
      "\u001B[1;31mValueError\u001B[0m: The number of FixedLocator locations (2), usually from a call to set_ticks, does not match the number of ticklabels (113)."
     ]
    },
    {
     "data": {
      "text/plain": "<Figure size 640x480 with 1 Axes>",
      "image/png": "[encoded data removed]"
     },
     "metadata": {},
     "output_type": "display_data"
    }
   ],
   "source": [
    "#create list of data for survival by sex to plot\n",
    "x1 = list(data[data['Survived'] == 1]['Sex'])\n",
    "x2 = list(data[data['Survived'] == 0][\"Sex\"])\n",
    "\n",
    "#plot survival rate by age\n",
    "plt.hist([x1,x2],label=['Survived','Did Not Survive'],bins=2)\n",
    "plt.xlabel(\"Sex\")\n",
    "plt.xticks(ticks = [0,1], labels = data.Sex)\n",
    "plt.legend()"
   ],
   "metadata": {
    "collapsed": false,
    "pycharm": {
     "name": "#%%\n"
    }
   }
  },
  {
   "cell_type": "markdown",
   "source": [
    "There were slightly more males on board than females but males had a worse survival rate than females. The male survival rate was about 10 more than the female death rate."
   ],
   "metadata": {
    "collapsed": false,
    "pycharm": {
     "name": "#%% md\n"
    }
   }
  },
  {
   "cell_type": "markdown",
   "source": [
    "Survival by Class\n",
    "--"
   ],
   "metadata": {
    "collapsed": false,
    "pycharm": {
     "name": "#%% md\n"
    }
   }
  },
  {
   "cell_type": "code",
   "execution_count": null,
   "outputs": [],
   "source": [
    "#plot on class\n",
    "print(data.Pclass.value_counts())\n",
    "data.Pclass.value_counts().plot.bar(title = 'Class')\n",
    "plt.xticks(rotation = 0)"
   ],
   "metadata": {
    "collapsed": false,
    "pycharm": {
     "name": "#%%\n"
    }
   }
  },
  {
   "cell_type": "code",
   "execution_count": 44,
   "outputs": [
    {
     "data": {
      "text/plain": "<matplotlib.legend.Legend at 0x1289a1b5f40>"
     },
     "execution_count": 44,
     "metadata": {},
     "output_type": "execute_result"
    },
    {
     "data": {
      "text/plain": "<Figure size 640x480 with 1 Axes>",
      "image/png": "[encoded data removed]"
     },
     "metadata": {},
     "output_type": "display_data"
    }
   ],
   "source": [
    "#create list of data for survival by class to plot\n",
    "x1 = list(data[data['Survived'] == 1]['Pclass'])\n",
    "x2 = list(data[data['Survived'] == 0][\"Pclass\"])\n",
    "plt.hist([x1,x2],label=['Survived','Did Not Survive'],bins=3)\n",
    "plt.xlabel(\"Class\")\n",
    "plt.ylabel(\"count\")\n",
    "plt.xticks([1,2,3])\n",
    "plt.legend()"
   ],
   "metadata": {
    "collapsed": false,
    "pycharm": {
     "name": "#%%\n"
    }
   }
  },
  {
   "cell_type": "code",
   "execution_count": null,
   "outputs": [],
   "source": [
    "result = data[data['Pclass'] == 3]\n",
    "num_class3 = len(result)\n",
    "result2 = data[(data['Survived'] == 1) & (data['Pclass'] == 3)]\n",
    "surv_class3 = len(result2)\n",
    "print('({:.0f}%)'.format((surv_class3/num_class3)*100), 'children survived in class 3')\n",
    "\n",
    "result = data[data['Pclass'] == 2]\n",
    "num_class2 = len(result)\n",
    "result2 = data[(data['Survived'] == 1) & (data['Pclass'] == 2)]\n",
    "surv_class2 = len(result2)\n",
    "print('({:.0f}%)'.format((surv_class2/num_class2)*100), 'children survived in class 2')\n",
    "\n",
    "result = data[data['Pclass'] == 1]\n",
    "num_class1 = len(result)\n",
    "result2 = data[(data['Survived'] == 1) & (data['Pclass'] == 1)]\n",
    "surv_class1 = len(result2)\n",
    "print('({:.0f}%)'.format((surv_class1/num_class1)*100), 'children survived in class 1')"
   ],
   "metadata": {
    "collapsed": false,
    "pycharm": {
     "name": "#%%\n"
    }
   }
  },
  {
   "cell_type": "markdown",
   "source": [
    "There were significantly more children in class 3. Class 3 has the lowest percent of survival rate even though it had the highest amount of kids."
   ],
   "metadata": {
    "collapsed": false,
    "pycharm": {
     "name": "#%% md\n"
    }
   }
  },
  {
   "cell_type": "markdown",
   "source": [
    "Survival Rate by Family Members on Board\n",
    "--\n",
    "a) Total Family Members\n",
    "b) Siblings & Spouses\n",
    "c) Parents & Children"
   ],
   "metadata": {
    "collapsed": false,
    "pycharm": {
     "name": "#%% md\n"
    }
   }
  },
  {
   "cell_type": "code",
   "execution_count": 25,
   "outputs": [
    {
     "data": {
      "text/plain": "2    28\n0    23\n1    18\n5    13\n3    12\n6     9\n4     5\n7     5\nName: Total Family, dtype: int64"
     },
     "execution_count": 25,
     "metadata": {},
     "output_type": "execute_result"
    }
   ],
   "source": [
    "#FAMILY MEMBERS\n",
    "#Checking the spread of the data\n",
    "data['Total Family'].value_counts()"
   ],
   "metadata": {
    "collapsed": false,
    "pycharm": {
     "name": "#%%\n"
    }
   }
  },
  {
   "cell_type": "code",
   "execution_count": 26,
   "outputs": [
    {
     "data": {
      "text/plain": "<matplotlib.legend.Legend at 0x1289a08baf0>"
     },
     "execution_count": 26,
     "metadata": {},
     "output_type": "execute_result"
    },
    {
     "data": {
      "text/plain": "<Figure size 640x480 with 1 Axes>",
      "image/png": "[encoded data removed]"
     },
     "metadata": {},
     "output_type": "display_data"
    }
   ],
   "source": [
    "#create list of data for survival by number of family numbers to plot\n",
    "x1 = list(data[data['Survived'] == 1]['Total Family'])\n",
    "x2 = list(data[data['Survived'] == 0][\"Total Family\"])\n",
    "plt.hist([x1,x2],label=['Survived','Did Not Survive'],bins=8)\n",
    "plt.xlabel(\"Family Members\")\n",
    "plt.ylabel(\"count\")\n",
    "plt.xticks([0,1,2,3,4,5,6,7])\n",
    "plt.legend()"
   ],
   "metadata": {
    "collapsed": false,
    "pycharm": {
     "name": "#%%\n"
    }
   }
  },
  {
   "cell_type": "markdown",
   "source": [
    "The higher the number of family members on board, the worse chance of survival. No family members also had a low survival chance. 2 family members had the best survival rate followed by 1 family member."
   ],
   "metadata": {
    "collapsed": false,
    "pycharm": {
     "name": "#%% md\n"
    }
   }
  },
  {
   "cell_type": "code",
   "execution_count": 21,
   "outputs": [
    {
     "name": "stdout",
     "output_type": "stream",
     "text": [
      "SibSp\n"
     ]
    },
    {
     "data": {
      "text/plain": "0    43\n1    33\n4    18\n3     7\n2     7\n5     5\nName: SibSp, dtype: int64"
     },
     "execution_count": 21,
     "metadata": {},
     "output_type": "execute_result"
    }
   ],
   "source": [
    "#value count for SibSp feature\n",
    "print(\"SibSp\")\n",
    "data['SibSp'].value_counts()"
   ],
   "metadata": {
    "collapsed": false,
    "pycharm": {
     "name": "#%%\n"
    }
   }
  },
  {
   "cell_type": "code",
   "execution_count": 22,
   "outputs": [
    {
     "name": "stdout",
     "output_type": "stream",
     "text": [
      "\n",
      "Parch\n"
     ]
    },
    {
     "data": {
      "text/plain": "1    44\n2    36\n0    32\n3     1\nName: Parch, dtype: int64"
     },
     "execution_count": 22,
     "metadata": {},
     "output_type": "execute_result"
    }
   ],
   "source": [
    "#value count for Parch feature\n",
    "print('\\nParch')\n",
    "data['Parch'].value_counts()"
   ],
   "metadata": {
    "collapsed": false,
    "pycharm": {
     "name": "#%%\n"
    }
   }
  },
  {
   "cell_type": "code",
   "execution_count": 23,
   "outputs": [
    {
     "data": {
      "text/plain": "<matplotlib.legend.Legend at 0x12899fff430>"
     },
     "execution_count": 23,
     "metadata": {},
     "output_type": "execute_result"
    },
    {
     "data": {
      "text/plain": "<Figure size 640x480 with 2 Axes>",
      "image/png": "[encoded data removed]"
     },
     "metadata": {},
     "output_type": "display_data"
    }
   ],
   "source": [
    "# B/C - SIDE BY SIDE BAR CHARTS FOR SIBSP & PARCH\n",
    "\n",
    "#figure for side by side plots\n",
    "fig, [ax1,ax2] = plt.subplots(1,2)\n",
    "fig.suptitle(\"Survival by Total Family Members\")\n",
    "\n",
    "#SURVIVAL BY SIBSP\n",
    "#create list of data for survival by Sibsp to plot\n",
    "x1 = list(data[data['Survived'] == 1]['SibSp'])\n",
    "x2 = list(data[data['Survived'] == 0][\"SibSp\"])\n",
    "#plot SibSp\n",
    "ax1.hist([x1,x2],label=['Survived','Did Not Survive'], bins = 6)\n",
    "ax1.set_xlabel('Sibsp')\n",
    "ax1.set_xticks((0,1,2,3,4,5))\n",
    "ax1.legend()\n",
    "\n",
    "\n",
    "#SURVIVAL BY PARCH\n",
    "x1 = list(data[data['Survived'] == 1]['Parch'])\n",
    "x2 = list(data[data['Survived'] == 0][\"Parch\"])\n",
    "#plot Parch\n",
    "ax2.hist([x1,x2],label=['Survived','Did Not Survive'],bins=4)\n",
    "ax2.set_xlabel('Parch')\n",
    "ax2.set_xticks([0,1,2,3])\n",
    "ax2.legend()"
   ],
   "metadata": {
    "collapsed": false,
    "pycharm": {
     "name": "#%%\n"
    }
   }
  },
  {
   "cell_type": "code",
   "execution_count": 40,
   "outputs": [
    {
     "name": "stdout",
     "output_type": "stream",
     "text": [
      "Number of children that survived based on number of parents on board\n",
      "ratio of children with 1 parent that survived:  27  or 44%\n",
      "ratio of children with 2 parents that survived:  18  or 30%\n",
      "ratio of children with no parents that survived:  16  or 26%\n",
      "\n",
      "Number of childrent that survived based on number of siblings on board\n",
      "ratio of children with no siblings that survived:  28  or 46%\n",
      "ratio of children with 1 sibling that survived:  25  or 41%\n",
      "ratio of children with 3 siblings that survived:  0  or 0%\n",
      "ratio of children with 4 siblings that survived:  3  or 5%\n",
      "\n",
      "Number of children tht survived based on number of parents & siblings on board\n",
      "ratio of children with no parent and no siblings:  10\n",
      "ratio of children with 1 parent and no siblings:  9\n",
      "ratio of children with 2 parents and no siblings:  9\n",
      "ratio of children with 1 parent and 1 siblings:  13\n",
      "ratio of children with 2 parent and 2 siblings:  0\n",
      "Number of children that survived with at least one family member on board:  51\n",
      "Number of children that did not survive with at least one family member on board:  39\n"
     ]
    }
   ],
   "source": [
    "print('Number of children that survived based on number of parents on board')\n",
    "parent1_surv = len(data[(data['Survived']== 1) & (data['Parch']== 1)])\n",
    "print('ratio of children with 1 parent that survived: ', parent1_surv, ' or', '{:.0f}%'.format((parent1_surv/num_survived)*100))\n",
    "parent2_surv = len(data[(data['Survived']== 1) & (data['Parch']== 2)])\n",
    "print('ratio of children with 2 parents that survived: ', parent2_surv, ' or', '{:.0f}%'.format((parent2_surv/num_survived)*100))\n",
    "parent0_surv = len(data[(data['Survived']== 1) & (data['Parch']== 0)])\n",
    "print('ratio of children with no parents that survived: ', parent0_surv, ' or', '{:.0f}%'.format((parent0_surv/num_survived)*100))\n",
    "\n",
    "print('\\nNumber of childrent that survived based on number of siblings on board')\n",
    "sib0_surv = len(data[(data['Survived']== 1) & (data['SibSp']== 0)])\n",
    "print('ratio of children with no siblings that survived: ', sib0_surv, ' or', '{:.0f}%'.format((sib0_surv/num_survived)*100))\n",
    "sib1_surv = len(data[(data['Survived']== 1) & (data['SibSp']== 1)])\n",
    "print('ratio of children with 1 sibling that survived: ', sib1_surv, ' or', '{:.0f}%'.format((sib1_surv/num_survived)*100))\n",
    "sib3_surv = len(data[(data['Survived']== 1) & (data['SibSp']== 3)])\n",
    "print('ratio of children with 3 siblings that survived: ', sib3_surv, ' or', '{:.0f}%'.format((sib3_surv/num_survived)*100))\n",
    "sib4_surv = len(data[(data['Survived']== 1) & (data['SibSp']== 4)])\n",
    "print('ratio of children with 4 siblings that survived: ', sib4_surv, ' or', '{:.0f}%'.format((sib4_surv/num_survived)*100))\n",
    "\n",
    "print('\\nNumber of children tht survived based on number of parents & siblings on board')\n",
    "nosib_noparent = len(data[(data['Survived']== 1) & (data['SibSp']== 0)& (data['Parch']== 0)])\n",
    "print('ratio of children with no parent and no siblings: ', nosib_noparent)\n",
    "nosib_1parent = len(data[(data['Survived']== 1) & (data['SibSp']== 0)& (data['Parch']== 1)])\n",
    "print('ratio of children with 1 parent and no siblings: ', nosib_1parent)\n",
    "nosib_2parent = len(data[(data['Survived']== 1) & (data['SibSp']== 0)& (data['Parch']== 2)])\n",
    "print('ratio of children with 2 parents and no siblings: ', nosib_2parent)\n",
    "sib1_1parent = len(data[(data['Survived']== 1) & (data['SibSp']== 1)& (data['Parch']== 1)])\n",
    "print('ratio of children with 1 parent and 1 siblings: ',sib1_1parent )\n",
    "sib2_2parent = len(data[(data['Survived']== 1) & (data['SibSp']== 2)& (data['Parch']== 2)])\n",
    "print('ratio of children with 2 parent and 2 siblings: ',sib2_2parent )\n",
    "\n",
    "nosib_par = len(data[(data['Survived']== 1) & (data['Total Family'] > 0)])\n",
    "print(\"Number of children that survived with at least one family member on board: \", nosib_par)\n",
    "nosib_par = len(data[(data['Survived']== 0) & (data['Total Family'] > 0)])\n",
    "print(\"Number of children that did not survive with at least one family member on board: \", nosib_par)"
   ],
   "metadata": {
    "collapsed": false,
    "pycharm": {
     "name": "#%%\n"
    }
   }
  },
  {
   "cell_type": "markdown",
   "source": [
    "No siblings/spouses had the highest survival rate followed by 1 parent/child. Having more than one sibling on board decreased chance of survival with 3 and 5 having no chance of survival.No parents/children had equal chances of surviving or not.\n",
    "Solution - Children traveling with 1-3 family members has the highest number of survivors."
   ],
   "metadata": {
    "collapsed": false,
    "pycharm": {
     "name": "#%% md\n"
    }
   }
  },
  {
   "cell_type": "markdown",
   "source": [
    "Survival by Embarkation Port\n",
    "--"
   ],
   "metadata": {
    "collapsed": false,
    "pycharm": {
     "name": "#%% md\n"
    }
   }
  },
  {
   "cell_type": "code",
   "execution_count": 41,
   "outputs": [
    {
     "data": {
      "text/plain": "S    82\nC    24\nQ     7\nName: Embarked, dtype: int64"
     },
     "execution_count": 41,
     "metadata": {},
     "output_type": "execute_result"
    }
   ],
   "source": [
    "#value counts\n",
    "data.Embarked.value_counts()"
   ],
   "metadata": {
    "collapsed": false,
    "pycharm": {
     "name": "#%%\n"
    }
   }
  },
  {
   "cell_type": "code",
   "execution_count": 42,
   "outputs": [
    {
     "data": {
      "text/plain": "<matplotlib.legend.Legend at 0x1289a67f280>"
     },
     "execution_count": 42,
     "metadata": {},
     "output_type": "execute_result"
    },
    {
     "data": {
      "text/plain": "<Figure size 640x480 with 2 Axes>",
      "image/png": "[encoded data removed]"
     },
     "metadata": {},
     "output_type": "display_data"
    }
   ],
   "source": [
    "#figure for port & class\n",
    "fig, (ax1,ax2) = plt.subplots(1,2)\n",
    "fig.suptitle('Embarkation by Port and Class')\n",
    "\n",
    "#plotting values of amount of embarkations at each part\n",
    "#ax1 = data.Embarked.value_counts().plot(kind = 'bar', title = \"Port of Embarkation\")\n",
    "#plt.xticks(rotation = 0)\n",
    "\n",
    "ax1.bar(data['Embarked'].unique(), height =data['Embarked'].value_counts())\n",
    "\n",
    "#plotting amount of each class embarkations at each port\n",
    "#create list of data to plot\n",
    "x1 = list(data[data['Pclass'] == 1]['Embarked'])\n",
    "x2 = list(data[data['Pclass'] == 2]['Embarked'])\n",
    "x3 = list(data[data['Pclass'] == 3]['Embarked'])\n",
    "\n",
    "ax2.hist([x1,x2,x3], label= ('Class 1',' Class 2','Class 3'))\n",
    "#ax2.xticks(['C','Q','S'])\n",
    "ax2.legend()"
   ],
   "metadata": {
    "collapsed": false,
    "pycharm": {
     "name": "#%%\n"
    }
   }
  },
  {
   "cell_type": "markdown",
   "source": [
    "most children embarked at S (Southampton). Southampton also had the highest number of class 3 embarkations."
   ],
   "metadata": {
    "collapsed": false,
    "pycharm": {
     "name": "#%% md\n"
    }
   }
  },
  {
   "cell_type": "code",
   "execution_count": 43,
   "outputs": [
    {
     "data": {
      "text/plain": "<matplotlib.legend.Legend at 0x12899eb8880>"
     },
     "execution_count": 43,
     "metadata": {},
     "output_type": "execute_result"
    },
    {
     "data": {
      "text/plain": "<Figure size 640x480 with 1 Axes>",
      "image/png": "[encoded data removed]"
     },
     "metadata": {},
     "output_type": "display_data"
    }
   ],
   "source": [
    "#create list of data for survival by port to plot\n",
    "x1 = list(data[data['Survived'] == 1]['Embarked'])\n",
    "x2 = list(data[data['Survived'] == 0][\"Embarked\"])\n",
    "\n",
    "#plotting\n",
    "plt.hist([x1,x2],label=['Survived','Did Not Survive'],bins=3)\n",
    "plt.xlabel(\"Port\")\n",
    "plt.xticks(['C','Q','S'])\n",
    "plt.legend()"
   ],
   "metadata": {
    "collapsed": false,
    "pycharm": {
     "name": "#%%\n"
    }
   }
  },
  {
   "cell_type": "markdown",
   "source": [
    "Southamptom embarkation has almost equal odds of survival - did not survive was slightly more likely."
   ],
   "metadata": {
    "collapsed": false,
    "pycharm": {
     "name": "#%% md\n"
    }
   }
  },
  {
   "cell_type": "markdown",
   "source": [
    "solution - Since 1st/2nd class had highest survival, requiring children traveling alone to be in either of those classes would increase survival odds.\n",
    "next steps - req children to travel with at least on family member, look at survival rate based on age and number of family members travelled with."
   ],
   "metadata": {
    "collapsed": false,
    "pycharm": {
     "name": "#%% md\n"
    }
   }
  }
 ],
 "metadata": {
  "kernelspec": {
   "display_name": "Python 3",
   "language": "python",
   "name": "python3"
  },
  "language_info": {
   "codemirror_mode": {
    "name": "ipython",
    "version": 2
   },
   "file_extension": ".py",
   "mimetype": "text/x-python",
   "name": "python",
   "nbconvert_exporter": "python",
   "pygments_lexer": "ipython2",
   "version": "2.7.6"
  }
 },
 "nbformat": 4,
 "nbformat_minor": 0
}